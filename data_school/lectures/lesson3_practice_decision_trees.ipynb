{
 "cells": [
  {
   "cell_type": "markdown",
   "metadata": {},
   "source": [
    "<center>\n",
    "<img src=\"../img/beeline_data_school_logo.png\">\n",
    "# \"Прикладной анализ данных\"\n",
    "#### Интенсивный курс по изучению машинного обучения и анализа данных\n",
    "<img src=\"../img/beeline_logo.jpg\" height=\"240\" width=\"240\">\n",
    "## Автор материала: преподаватель Факультета Компьютерных Наук НИУ ВШЭ Кашницкий Юрий\n",
    "</center>\n",
    "Материал распространяется на условиях лицензии <a href=\"https://opensource.org/licenses/MS-RL\">Ms-RL</a>. Можно использовать в любых целях, кроме коммерческих, но с обязательным упоминанием автора материала."
   ]
  },
  {
   "cell_type": "code",
   "execution_count": 194,
   "metadata": {
    "collapsed": true
   },
   "outputs": [],
   "source": [
    "import pandas as pd\n",
    "from sklearn.preprocessing import LabelEncoder\n",
    "import collections\n",
    "import numpy as np\n",
    "from IPython.display import Image"
   ]
  },
  {
   "cell_type": "markdown",
   "metadata": {},
   "source": [
    "# Занятие 3. Обучение с учителем. Задачи классификации и регрессии"
   ]
  },
  {
   "cell_type": "markdown",
   "metadata": {},
   "source": [
    "## Практическое задание. Построение дерева решений"
   ]
  },
  {
   "cell_type": "markdown",
   "metadata": {},
   "source": [
    "## Загрузка данных"
   ]
  },
  {
   "cell_type": "code",
   "execution_count": 195,
   "metadata": {
    "collapsed": true
   },
   "outputs": [],
   "source": [
    "# Создание датафрейма с dummy variables\n",
    "def create_df(dic, feature_list):\n",
    "    out = pd.DataFrame(dic)\n",
    "    out = pd.concat([out, pd.get_dummies(out[feature_list])], axis = 1)\n",
    "    out.drop(feature_list, axis = 1, inplace = True)\n",
    "    return out\n",
    "\n",
    "# Некоторые значения признаков есть в тесте, но нет в трейне и наоборот\n",
    "def intersect_features(train, test):\n",
    "    f = list( set(train.keys()) & set(test.keys()))\n",
    "    return train[f], test[f]"
   ]
  },
  {
   "cell_type": "markdown",
   "metadata": {},
   "source": [
    "### Признаки"
   ]
  },
  {
   "cell_type": "code",
   "execution_count": 196,
   "metadata": {
    "collapsed": true
   },
   "outputs": [],
   "source": [
    "fn_1 = ['Возраст', 'Доход','Внешность','Образование'] # знакомства\n",
    "fn_2 = ['Цвет', 'Тип', 'Производство', 'Повреждения'] # угон\n",
    "fn_3 = ['Пол', 'Возраст', 'Образование', 'Зарпалата'] # кредит"
   ]
  },
  {
   "cell_type": "markdown",
   "metadata": {},
   "source": [
    "### Служба\tзнакомств"
   ]
  },
  {
   "cell_type": "code",
   "execution_count": 197,
   "metadata": {
    "collapsed": false
   },
   "outputs": [
    {
     "data": {
      "text/html": [
       "<div>\n",
       "<table border=\"1\" class=\"dataframe\">\n",
       "  <thead>\n",
       "    <tr style=\"text-align: right;\">\n",
       "      <th></th>\n",
       "      <th>Составит пару</th>\n",
       "      <th>Возраст_молодой</th>\n",
       "      <th>Возраст_пожилой</th>\n",
       "      <th>Возраст_средний</th>\n",
       "      <th>Доход_высокий</th>\n",
       "      <th>Доход_низкий</th>\n",
       "      <th>Доход_средний</th>\n",
       "      <th>Внешность_отталкивающая</th>\n",
       "      <th>Внешность_приятная</th>\n",
       "      <th>Образование_высшее</th>\n",
       "      <th>Образование_специальное</th>\n",
       "      <th>Образование_среднее</th>\n",
       "    </tr>\n",
       "  </thead>\n",
       "  <tbody>\n",
       "    <tr>\n",
       "      <th>0</th>\n",
       "      <td>0</td>\n",
       "      <td>1</td>\n",
       "      <td>0</td>\n",
       "      <td>0</td>\n",
       "      <td>1</td>\n",
       "      <td>0</td>\n",
       "      <td>0</td>\n",
       "      <td>0</td>\n",
       "      <td>1</td>\n",
       "      <td>0</td>\n",
       "      <td>1</td>\n",
       "      <td>0</td>\n",
       "    </tr>\n",
       "    <tr>\n",
       "      <th>1</th>\n",
       "      <td>0</td>\n",
       "      <td>0</td>\n",
       "      <td>0</td>\n",
       "      <td>1</td>\n",
       "      <td>1</td>\n",
       "      <td>0</td>\n",
       "      <td>0</td>\n",
       "      <td>0</td>\n",
       "      <td>1</td>\n",
       "      <td>1</td>\n",
       "      <td>0</td>\n",
       "      <td>0</td>\n",
       "    </tr>\n",
       "    <tr>\n",
       "      <th>2</th>\n",
       "      <td>0</td>\n",
       "      <td>0</td>\n",
       "      <td>1</td>\n",
       "      <td>0</td>\n",
       "      <td>1</td>\n",
       "      <td>0</td>\n",
       "      <td>0</td>\n",
       "      <td>0</td>\n",
       "      <td>1</td>\n",
       "      <td>1</td>\n",
       "      <td>0</td>\n",
       "      <td>0</td>\n",
       "    </tr>\n",
       "    <tr>\n",
       "      <th>3</th>\n",
       "      <td>0</td>\n",
       "      <td>0</td>\n",
       "      <td>0</td>\n",
       "      <td>1</td>\n",
       "      <td>0</td>\n",
       "      <td>0</td>\n",
       "      <td>1</td>\n",
       "      <td>0</td>\n",
       "      <td>1</td>\n",
       "      <td>1</td>\n",
       "      <td>0</td>\n",
       "      <td>0</td>\n",
       "    </tr>\n",
       "    <tr>\n",
       "      <th>4</th>\n",
       "      <td>1</td>\n",
       "      <td>1</td>\n",
       "      <td>0</td>\n",
       "      <td>0</td>\n",
       "      <td>0</td>\n",
       "      <td>1</td>\n",
       "      <td>0</td>\n",
       "      <td>0</td>\n",
       "      <td>1</td>\n",
       "      <td>0</td>\n",
       "      <td>1</td>\n",
       "      <td>0</td>\n",
       "    </tr>\n",
       "    <tr>\n",
       "      <th>5</th>\n",
       "      <td>1</td>\n",
       "      <td>0</td>\n",
       "      <td>0</td>\n",
       "      <td>1</td>\n",
       "      <td>1</td>\n",
       "      <td>0</td>\n",
       "      <td>0</td>\n",
       "      <td>1</td>\n",
       "      <td>0</td>\n",
       "      <td>1</td>\n",
       "      <td>0</td>\n",
       "      <td>0</td>\n",
       "    </tr>\n",
       "    <tr>\n",
       "      <th>6</th>\n",
       "      <td>1</td>\n",
       "      <td>0</td>\n",
       "      <td>1</td>\n",
       "      <td>0</td>\n",
       "      <td>0</td>\n",
       "      <td>0</td>\n",
       "      <td>1</td>\n",
       "      <td>0</td>\n",
       "      <td>1</td>\n",
       "      <td>0</td>\n",
       "      <td>0</td>\n",
       "      <td>1</td>\n",
       "    </tr>\n",
       "  </tbody>\n",
       "</table>\n",
       "</div>"
      ],
      "text/plain": [
       "   Составит пару  Возраст_молодой  Возраст_пожилой  Возраст_средний  \\\n",
       "0              0                1                0                0   \n",
       "1              0                0                0                1   \n",
       "2              0                0                1                0   \n",
       "3              0                0                0                1   \n",
       "4              1                1                0                0   \n",
       "5              1                0                0                1   \n",
       "6              1                0                1                0   \n",
       "\n",
       "   Доход_высокий  Доход_низкий  Доход_средний  Внешность_отталкивающая  \\\n",
       "0              1             0              0                        0   \n",
       "1              1             0              0                        0   \n",
       "2              1             0              0                        0   \n",
       "3              0             0              1                        0   \n",
       "4              0             1              0                        0   \n",
       "5              1             0              0                        1   \n",
       "6              0             0              1                        0   \n",
       "\n",
       "   Внешность_приятная  Образование_высшее  Образование_специальное  \\\n",
       "0                   1                   0                        1   \n",
       "1                   1                   1                        0   \n",
       "2                   1                   1                        0   \n",
       "3                   1                   1                        0   \n",
       "4                   1                   0                        1   \n",
       "5                   0                   1                        0   \n",
       "6                   1                   0                        0   \n",
       "\n",
       "   Образование_среднее  \n",
       "0                    0  \n",
       "1                    0  \n",
       "2                    0  \n",
       "3                    0  \n",
       "4                    0  \n",
       "5                    0  \n",
       "6                    1  "
      ]
     },
     "execution_count": 197,
     "metadata": {},
     "output_type": "execute_result"
    }
   ],
   "source": [
    "# обучение\n",
    "\n",
    "df1_train = {}\n",
    "df1_train['Возраст'] = ['молодой','средний','пожилой','средний','молодой','средний','пожилой'] \n",
    "df1_train['Доход'] = ['высокий','высокий','высокий','средний','низкий','высокий','средний']\n",
    "df1_train['Внешность'] = ['приятная','приятная','приятная','приятная','приятная','отталкивающая','приятная']\n",
    "df1_train['Образование'] = ['специальное','высшее','высшее','высшее','специальное','высшее','среднее']\n",
    "df1_train['Составит пару'] = LabelEncoder().fit_transform(['+','+','+','+','-','-','-'])\n",
    "\n",
    "df1_train = create_df(df1_train, fn_1)\n",
    "df1_train"
   ]
  },
  {
   "cell_type": "code",
   "execution_count": 198,
   "metadata": {
    "collapsed": false
   },
   "outputs": [
    {
     "data": {
      "text/html": [
       "<div>\n",
       "<table border=\"1\" class=\"dataframe\">\n",
       "  <thead>\n",
       "    <tr style=\"text-align: right;\">\n",
       "      <th></th>\n",
       "      <th>Возраст_молодой</th>\n",
       "      <th>Возраст_пожилой</th>\n",
       "      <th>Возраст_средний</th>\n",
       "      <th>Доход_высокий</th>\n",
       "      <th>Доход_низкий</th>\n",
       "      <th>Доход_средний</th>\n",
       "      <th>Внешность_отталкивающая</th>\n",
       "      <th>Внешность_приятная</th>\n",
       "      <th>Образование_высшее</th>\n",
       "      <th>Образование_специальное</th>\n",
       "    </tr>\n",
       "  </thead>\n",
       "  <tbody>\n",
       "    <tr>\n",
       "      <th>0</th>\n",
       "      <td>1</td>\n",
       "      <td>0</td>\n",
       "      <td>0</td>\n",
       "      <td>0</td>\n",
       "      <td>0</td>\n",
       "      <td>1</td>\n",
       "      <td>0</td>\n",
       "      <td>1</td>\n",
       "      <td>1</td>\n",
       "      <td>0</td>\n",
       "    </tr>\n",
       "    <tr>\n",
       "      <th>1</th>\n",
       "      <td>0</td>\n",
       "      <td>0</td>\n",
       "      <td>1</td>\n",
       "      <td>1</td>\n",
       "      <td>0</td>\n",
       "      <td>0</td>\n",
       "      <td>1</td>\n",
       "      <td>0</td>\n",
       "      <td>0</td>\n",
       "      <td>1</td>\n",
       "    </tr>\n",
       "    <tr>\n",
       "      <th>2</th>\n",
       "      <td>0</td>\n",
       "      <td>1</td>\n",
       "      <td>0</td>\n",
       "      <td>0</td>\n",
       "      <td>1</td>\n",
       "      <td>0</td>\n",
       "      <td>0</td>\n",
       "      <td>1</td>\n",
       "      <td>1</td>\n",
       "      <td>0</td>\n",
       "    </tr>\n",
       "  </tbody>\n",
       "</table>\n",
       "</div>"
      ],
      "text/plain": [
       "   Возраст_молодой  Возраст_пожилой  Возраст_средний  Доход_высокий  \\\n",
       "0                1                0                0              0   \n",
       "1                0                0                1              1   \n",
       "2                0                1                0              0   \n",
       "\n",
       "   Доход_низкий  Доход_средний  Внешность_отталкивающая  Внешность_приятная  \\\n",
       "0             0              1                        0                   1   \n",
       "1             0              0                        1                   0   \n",
       "2             1              0                        0                   1   \n",
       "\n",
       "   Образование_высшее  Образование_специальное  \n",
       "0                   1                        0  \n",
       "1                   0                        1  \n",
       "2                   1                        0  "
      ]
     },
     "execution_count": 198,
     "metadata": {},
     "output_type": "execute_result"
    }
   ],
   "source": [
    "# тест\n",
    "\n",
    "df1_test = {}\n",
    "df1_test['Возраст'] = ['молодой','средний','пожилой'] \n",
    "df1_test['Доход'] = ['средний','высокий','низкий']\n",
    "df1_test['Внешность'] = ['приятная','отталкивающая','приятная']\n",
    "df1_test['Образование'] = ['высшее','специальное','высшее']\n",
    "df1_test = create_df(df1_test, fn_1)\n",
    "df1_test"
   ]
  },
  {
   "cell_type": "code",
   "execution_count": 199,
   "metadata": {
    "collapsed": false
   },
   "outputs": [
    {
     "data": {
      "text/html": [
       "<div>\n",
       "<table border=\"1\" class=\"dataframe\">\n",
       "  <thead>\n",
       "    <tr style=\"text-align: right;\">\n",
       "      <th></th>\n",
       "      <th>Доход_средний</th>\n",
       "      <th>Внешность_приятная</th>\n",
       "      <th>Возраст_молодой</th>\n",
       "      <th>Образование_специальное</th>\n",
       "      <th>Доход_низкий</th>\n",
       "      <th>Образование_высшее</th>\n",
       "      <th>Возраст_пожилой</th>\n",
       "      <th>Доход_высокий</th>\n",
       "      <th>Возраст_средний</th>\n",
       "      <th>Внешность_отталкивающая</th>\n",
       "    </tr>\n",
       "  </thead>\n",
       "  <tbody>\n",
       "    <tr>\n",
       "      <th>0</th>\n",
       "      <td>0</td>\n",
       "      <td>1</td>\n",
       "      <td>1</td>\n",
       "      <td>1</td>\n",
       "      <td>0</td>\n",
       "      <td>0</td>\n",
       "      <td>0</td>\n",
       "      <td>1</td>\n",
       "      <td>0</td>\n",
       "      <td>0</td>\n",
       "    </tr>\n",
       "    <tr>\n",
       "      <th>1</th>\n",
       "      <td>0</td>\n",
       "      <td>1</td>\n",
       "      <td>0</td>\n",
       "      <td>0</td>\n",
       "      <td>0</td>\n",
       "      <td>1</td>\n",
       "      <td>0</td>\n",
       "      <td>1</td>\n",
       "      <td>1</td>\n",
       "      <td>0</td>\n",
       "    </tr>\n",
       "    <tr>\n",
       "      <th>2</th>\n",
       "      <td>0</td>\n",
       "      <td>1</td>\n",
       "      <td>0</td>\n",
       "      <td>0</td>\n",
       "      <td>0</td>\n",
       "      <td>1</td>\n",
       "      <td>1</td>\n",
       "      <td>1</td>\n",
       "      <td>0</td>\n",
       "      <td>0</td>\n",
       "    </tr>\n",
       "    <tr>\n",
       "      <th>3</th>\n",
       "      <td>1</td>\n",
       "      <td>1</td>\n",
       "      <td>0</td>\n",
       "      <td>0</td>\n",
       "      <td>0</td>\n",
       "      <td>1</td>\n",
       "      <td>0</td>\n",
       "      <td>0</td>\n",
       "      <td>1</td>\n",
       "      <td>0</td>\n",
       "    </tr>\n",
       "    <tr>\n",
       "      <th>4</th>\n",
       "      <td>0</td>\n",
       "      <td>1</td>\n",
       "      <td>1</td>\n",
       "      <td>1</td>\n",
       "      <td>1</td>\n",
       "      <td>0</td>\n",
       "      <td>0</td>\n",
       "      <td>0</td>\n",
       "      <td>0</td>\n",
       "      <td>0</td>\n",
       "    </tr>\n",
       "    <tr>\n",
       "      <th>5</th>\n",
       "      <td>0</td>\n",
       "      <td>0</td>\n",
       "      <td>0</td>\n",
       "      <td>0</td>\n",
       "      <td>0</td>\n",
       "      <td>1</td>\n",
       "      <td>0</td>\n",
       "      <td>1</td>\n",
       "      <td>1</td>\n",
       "      <td>1</td>\n",
       "    </tr>\n",
       "    <tr>\n",
       "      <th>6</th>\n",
       "      <td>1</td>\n",
       "      <td>1</td>\n",
       "      <td>0</td>\n",
       "      <td>0</td>\n",
       "      <td>0</td>\n",
       "      <td>0</td>\n",
       "      <td>1</td>\n",
       "      <td>0</td>\n",
       "      <td>0</td>\n",
       "      <td>0</td>\n",
       "    </tr>\n",
       "  </tbody>\n",
       "</table>\n",
       "</div>"
      ],
      "text/plain": [
       "   Доход_средний  Внешность_приятная  Возраст_молодой  \\\n",
       "0              0                   1                1   \n",
       "1              0                   1                0   \n",
       "2              0                   1                0   \n",
       "3              1                   1                0   \n",
       "4              0                   1                1   \n",
       "5              0                   0                0   \n",
       "6              1                   1                0   \n",
       "\n",
       "   Образование_специальное  Доход_низкий  Образование_высшее  Возраст_пожилой  \\\n",
       "0                        1             0                   0                0   \n",
       "1                        0             0                   1                0   \n",
       "2                        0             0                   1                1   \n",
       "3                        0             0                   1                0   \n",
       "4                        1             1                   0                0   \n",
       "5                        0             0                   1                0   \n",
       "6                        0             0                   0                1   \n",
       "\n",
       "   Доход_высокий  Возраст_средний  Внешность_отталкивающая  \n",
       "0              1                0                        0  \n",
       "1              1                1                        0  \n",
       "2              1                0                        0  \n",
       "3              0                1                        0  \n",
       "4              0                0                        0  \n",
       "5              1                1                        1  \n",
       "6              0                0                        0  "
      ]
     },
     "execution_count": 199,
     "metadata": {},
     "output_type": "execute_result"
    }
   ],
   "source": [
    "# Некоторые значения признаков есть в тесте, но нет в трейне и наоборот\n",
    "y_1 = df1_train['Составит пару']\n",
    "df1_train, df1_test = intersect_features(train = df1_train, test = df1_test)\n",
    "df1_train"
   ]
  },
  {
   "cell_type": "code",
   "execution_count": 200,
   "metadata": {
    "collapsed": false
   },
   "outputs": [
    {
     "data": {
      "text/html": [
       "<div>\n",
       "<table border=\"1\" class=\"dataframe\">\n",
       "  <thead>\n",
       "    <tr style=\"text-align: right;\">\n",
       "      <th></th>\n",
       "      <th>Доход_средний</th>\n",
       "      <th>Внешность_приятная</th>\n",
       "      <th>Возраст_молодой</th>\n",
       "      <th>Образование_специальное</th>\n",
       "      <th>Доход_низкий</th>\n",
       "      <th>Образование_высшее</th>\n",
       "      <th>Возраст_пожилой</th>\n",
       "      <th>Доход_высокий</th>\n",
       "      <th>Возраст_средний</th>\n",
       "      <th>Внешность_отталкивающая</th>\n",
       "    </tr>\n",
       "  </thead>\n",
       "  <tbody>\n",
       "    <tr>\n",
       "      <th>0</th>\n",
       "      <td>1</td>\n",
       "      <td>1</td>\n",
       "      <td>1</td>\n",
       "      <td>0</td>\n",
       "      <td>0</td>\n",
       "      <td>1</td>\n",
       "      <td>0</td>\n",
       "      <td>0</td>\n",
       "      <td>0</td>\n",
       "      <td>0</td>\n",
       "    </tr>\n",
       "    <tr>\n",
       "      <th>1</th>\n",
       "      <td>0</td>\n",
       "      <td>0</td>\n",
       "      <td>0</td>\n",
       "      <td>1</td>\n",
       "      <td>0</td>\n",
       "      <td>0</td>\n",
       "      <td>0</td>\n",
       "      <td>1</td>\n",
       "      <td>1</td>\n",
       "      <td>1</td>\n",
       "    </tr>\n",
       "    <tr>\n",
       "      <th>2</th>\n",
       "      <td>0</td>\n",
       "      <td>1</td>\n",
       "      <td>0</td>\n",
       "      <td>0</td>\n",
       "      <td>1</td>\n",
       "      <td>1</td>\n",
       "      <td>1</td>\n",
       "      <td>0</td>\n",
       "      <td>0</td>\n",
       "      <td>0</td>\n",
       "    </tr>\n",
       "  </tbody>\n",
       "</table>\n",
       "</div>"
      ],
      "text/plain": [
       "   Доход_средний  Внешность_приятная  Возраст_молодой  \\\n",
       "0              1                   1                1   \n",
       "1              0                   0                0   \n",
       "2              0                   1                0   \n",
       "\n",
       "   Образование_специальное  Доход_низкий  Образование_высшее  Возраст_пожилой  \\\n",
       "0                        0             0                   1                0   \n",
       "1                        1             0                   0                0   \n",
       "2                        0             1                   1                1   \n",
       "\n",
       "   Доход_высокий  Возраст_средний  Внешность_отталкивающая  \n",
       "0              0                0                        0  \n",
       "1              1                1                        1  \n",
       "2              0                0                        0  "
      ]
     },
     "execution_count": 200,
     "metadata": {},
     "output_type": "execute_result"
    }
   ],
   "source": [
    "df1_test"
   ]
  },
  {
   "cell_type": "markdown",
   "metadata": {},
   "source": [
    "### Автоугон"
   ]
  },
  {
   "cell_type": "code",
   "execution_count": 201,
   "metadata": {
    "collapsed": false,
    "scrolled": true
   },
   "outputs": [
    {
     "data": {
      "text/html": [
       "<div>\n",
       "<table border=\"1\" class=\"dataframe\">\n",
       "  <thead>\n",
       "    <tr style=\"text-align: right;\">\n",
       "      <th></th>\n",
       "      <th>Угоняют</th>\n",
       "      <th>Цвет_Желтый</th>\n",
       "      <th>Цвет_Красный</th>\n",
       "      <th>Тип_Джип</th>\n",
       "      <th>Тип_Спортивный</th>\n",
       "      <th>Производство_США</th>\n",
       "      <th>Производство_Япония</th>\n",
       "      <th>Повреждения_есть</th>\n",
       "      <th>Повреждения_нет</th>\n",
       "    </tr>\n",
       "  </thead>\n",
       "  <tbody>\n",
       "    <tr>\n",
       "      <th>0</th>\n",
       "      <td>0</td>\n",
       "      <td>0</td>\n",
       "      <td>1</td>\n",
       "      <td>0</td>\n",
       "      <td>1</td>\n",
       "      <td>1</td>\n",
       "      <td>0</td>\n",
       "      <td>0</td>\n",
       "      <td>1</td>\n",
       "    </tr>\n",
       "    <tr>\n",
       "      <th>1</th>\n",
       "      <td>0</td>\n",
       "      <td>1</td>\n",
       "      <td>0</td>\n",
       "      <td>0</td>\n",
       "      <td>1</td>\n",
       "      <td>0</td>\n",
       "      <td>1</td>\n",
       "      <td>0</td>\n",
       "      <td>1</td>\n",
       "    </tr>\n",
       "    <tr>\n",
       "      <th>2</th>\n",
       "      <td>0</td>\n",
       "      <td>1</td>\n",
       "      <td>0</td>\n",
       "      <td>1</td>\n",
       "      <td>0</td>\n",
       "      <td>0</td>\n",
       "      <td>1</td>\n",
       "      <td>0</td>\n",
       "      <td>1</td>\n",
       "    </tr>\n",
       "    <tr>\n",
       "      <th>3</th>\n",
       "      <td>0</td>\n",
       "      <td>0</td>\n",
       "      <td>1</td>\n",
       "      <td>0</td>\n",
       "      <td>1</td>\n",
       "      <td>0</td>\n",
       "      <td>1</td>\n",
       "      <td>1</td>\n",
       "      <td>0</td>\n",
       "    </tr>\n",
       "    <tr>\n",
       "      <th>4</th>\n",
       "      <td>1</td>\n",
       "      <td>1</td>\n",
       "      <td>0</td>\n",
       "      <td>0</td>\n",
       "      <td>1</td>\n",
       "      <td>1</td>\n",
       "      <td>0</td>\n",
       "      <td>1</td>\n",
       "      <td>0</td>\n",
       "    </tr>\n",
       "    <tr>\n",
       "      <th>5</th>\n",
       "      <td>1</td>\n",
       "      <td>1</td>\n",
       "      <td>0</td>\n",
       "      <td>1</td>\n",
       "      <td>0</td>\n",
       "      <td>1</td>\n",
       "      <td>0</td>\n",
       "      <td>0</td>\n",
       "      <td>1</td>\n",
       "    </tr>\n",
       "    <tr>\n",
       "      <th>6</th>\n",
       "      <td>1</td>\n",
       "      <td>0</td>\n",
       "      <td>1</td>\n",
       "      <td>1</td>\n",
       "      <td>0</td>\n",
       "      <td>0</td>\n",
       "      <td>1</td>\n",
       "      <td>1</td>\n",
       "      <td>0</td>\n",
       "    </tr>\n",
       "  </tbody>\n",
       "</table>\n",
       "</div>"
      ],
      "text/plain": [
       "   Угоняют  Цвет_Желтый  Цвет_Красный  Тип_Джип  Тип_Спортивный  \\\n",
       "0        0            0             1         0               1   \n",
       "1        0            1             0         0               1   \n",
       "2        0            1             0         1               0   \n",
       "3        0            0             1         0               1   \n",
       "4        1            1             0         0               1   \n",
       "5        1            1             0         1               0   \n",
       "6        1            0             1         1               0   \n",
       "\n",
       "   Производство_США  Производство_Япония  Повреждения_есть  Повреждения_нет  \n",
       "0                 1                    0                 0                1  \n",
       "1                 0                    1                 0                1  \n",
       "2                 0                    1                 0                1  \n",
       "3                 0                    1                 1                0  \n",
       "4                 1                    0                 1                0  \n",
       "5                 1                    0                 0                1  \n",
       "6                 0                    1                 1                0  "
      ]
     },
     "execution_count": 201,
     "metadata": {},
     "output_type": "execute_result"
    }
   ],
   "source": [
    "# обучение\n",
    "\n",
    "df2_train = {}\n",
    "df2_train['Цвет'] = ['Красный','Желтый','Желтый','Красный','Желтый','Желтый','Красный'] \n",
    "df2_train['Тип'] = ['Спортивный','Спортивный','Джип','Спортивный','Спортивный','Джип','Джип']\n",
    "df2_train['Производство'] = ['США','Япония','Япония','Япония','США','США','Япония']\n",
    "df2_train['Повреждения'] = ['нет','нет','нет','есть','есть','нет','есть']\n",
    "df2_train['Угоняют'] = LabelEncoder().fit_transform(['+','+','+','+','-','-','-'])\n",
    "\n",
    "df2_train = create_df(df2_train, fn_2)\n",
    "df2_train"
   ]
  },
  {
   "cell_type": "code",
   "execution_count": 202,
   "metadata": {
    "collapsed": false
   },
   "outputs": [
    {
     "data": {
      "text/html": [
       "<div>\n",
       "<table border=\"1\" class=\"dataframe\">\n",
       "  <thead>\n",
       "    <tr style=\"text-align: right;\">\n",
       "      <th></th>\n",
       "      <th>Цвет_Зеленый</th>\n",
       "      <th>Цвет_Красный</th>\n",
       "      <th>Цвет_Черный</th>\n",
       "      <th>Тип_Джип</th>\n",
       "      <th>Тип_Спортивный</th>\n",
       "      <th>Производство_Германия</th>\n",
       "      <th>Производство_США</th>\n",
       "      <th>Производство_Япония</th>\n",
       "      <th>Повреждения_нет</th>\n",
       "    </tr>\n",
       "  </thead>\n",
       "  <tbody>\n",
       "    <tr>\n",
       "      <th>0</th>\n",
       "      <td>1</td>\n",
       "      <td>0</td>\n",
       "      <td>0</td>\n",
       "      <td>0</td>\n",
       "      <td>1</td>\n",
       "      <td>0</td>\n",
       "      <td>1</td>\n",
       "      <td>0</td>\n",
       "      <td>1</td>\n",
       "    </tr>\n",
       "    <tr>\n",
       "      <th>1</th>\n",
       "      <td>0</td>\n",
       "      <td>1</td>\n",
       "      <td>0</td>\n",
       "      <td>0</td>\n",
       "      <td>1</td>\n",
       "      <td>1</td>\n",
       "      <td>0</td>\n",
       "      <td>0</td>\n",
       "      <td>1</td>\n",
       "    </tr>\n",
       "    <tr>\n",
       "      <th>2</th>\n",
       "      <td>0</td>\n",
       "      <td>0</td>\n",
       "      <td>1</td>\n",
       "      <td>1</td>\n",
       "      <td>0</td>\n",
       "      <td>0</td>\n",
       "      <td>0</td>\n",
       "      <td>1</td>\n",
       "      <td>1</td>\n",
       "    </tr>\n",
       "  </tbody>\n",
       "</table>\n",
       "</div>"
      ],
      "text/plain": [
       "   Цвет_Зеленый  Цвет_Красный  Цвет_Черный  Тип_Джип  Тип_Спортивный  \\\n",
       "0             1             0            0         0               1   \n",
       "1             0             1            0         0               1   \n",
       "2             0             0            1         1               0   \n",
       "\n",
       "   Производство_Германия  Производство_США  Производство_Япония  \\\n",
       "0                      0                 1                    0   \n",
       "1                      1                 0                    0   \n",
       "2                      0                 0                    1   \n",
       "\n",
       "   Повреждения_нет  \n",
       "0                1  \n",
       "1                1  \n",
       "2                1  "
      ]
     },
     "execution_count": 202,
     "metadata": {},
     "output_type": "execute_result"
    }
   ],
   "source": [
    "# тест\n",
    "\n",
    "df2_test = {}\n",
    "df2_test['Цвет'] = ['Зеленый','Красный','Черный'] \n",
    "df2_test['Тип'] = ['Спортивный','Спортивный','Джип']\n",
    "df2_test['Производство'] = ['США','Германия','Япония']\n",
    "df2_test['Повреждения'] = ['нет','нет','нет']\n",
    "\n",
    "df2_test = create_df(df2_test, fn_2)\n",
    "df2_test"
   ]
  },
  {
   "cell_type": "code",
   "execution_count": 203,
   "metadata": {
    "collapsed": false,
    "scrolled": true
   },
   "outputs": [
    {
     "data": {
      "text/html": [
       "<div>\n",
       "<table border=\"1\" class=\"dataframe\">\n",
       "  <thead>\n",
       "    <tr style=\"text-align: right;\">\n",
       "      <th></th>\n",
       "      <th>Производство_Япония</th>\n",
       "      <th>Тип_Джип</th>\n",
       "      <th>Тип_Спортивный</th>\n",
       "      <th>Повреждения_нет</th>\n",
       "      <th>Цвет_Красный</th>\n",
       "      <th>Производство_США</th>\n",
       "    </tr>\n",
       "  </thead>\n",
       "  <tbody>\n",
       "    <tr>\n",
       "      <th>0</th>\n",
       "      <td>0</td>\n",
       "      <td>0</td>\n",
       "      <td>1</td>\n",
       "      <td>1</td>\n",
       "      <td>1</td>\n",
       "      <td>1</td>\n",
       "    </tr>\n",
       "    <tr>\n",
       "      <th>1</th>\n",
       "      <td>1</td>\n",
       "      <td>0</td>\n",
       "      <td>1</td>\n",
       "      <td>1</td>\n",
       "      <td>0</td>\n",
       "      <td>0</td>\n",
       "    </tr>\n",
       "    <tr>\n",
       "      <th>2</th>\n",
       "      <td>1</td>\n",
       "      <td>1</td>\n",
       "      <td>0</td>\n",
       "      <td>1</td>\n",
       "      <td>0</td>\n",
       "      <td>0</td>\n",
       "    </tr>\n",
       "    <tr>\n",
       "      <th>3</th>\n",
       "      <td>1</td>\n",
       "      <td>0</td>\n",
       "      <td>1</td>\n",
       "      <td>0</td>\n",
       "      <td>1</td>\n",
       "      <td>0</td>\n",
       "    </tr>\n",
       "    <tr>\n",
       "      <th>4</th>\n",
       "      <td>0</td>\n",
       "      <td>0</td>\n",
       "      <td>1</td>\n",
       "      <td>0</td>\n",
       "      <td>0</td>\n",
       "      <td>1</td>\n",
       "    </tr>\n",
       "    <tr>\n",
       "      <th>5</th>\n",
       "      <td>0</td>\n",
       "      <td>1</td>\n",
       "      <td>0</td>\n",
       "      <td>1</td>\n",
       "      <td>0</td>\n",
       "      <td>1</td>\n",
       "    </tr>\n",
       "    <tr>\n",
       "      <th>6</th>\n",
       "      <td>1</td>\n",
       "      <td>1</td>\n",
       "      <td>0</td>\n",
       "      <td>0</td>\n",
       "      <td>1</td>\n",
       "      <td>0</td>\n",
       "    </tr>\n",
       "  </tbody>\n",
       "</table>\n",
       "</div>"
      ],
      "text/plain": [
       "   Производство_Япония  Тип_Джип  Тип_Спортивный  Повреждения_нет  \\\n",
       "0                    0         0               1                1   \n",
       "1                    1         0               1                1   \n",
       "2                    1         1               0                1   \n",
       "3                    1         0               1                0   \n",
       "4                    0         0               1                0   \n",
       "5                    0         1               0                1   \n",
       "6                    1         1               0                0   \n",
       "\n",
       "   Цвет_Красный  Производство_США  \n",
       "0             1                 1  \n",
       "1             0                 0  \n",
       "2             0                 0  \n",
       "3             1                 0  \n",
       "4             0                 1  \n",
       "5             0                 1  \n",
       "6             1                 0  "
      ]
     },
     "execution_count": 203,
     "metadata": {},
     "output_type": "execute_result"
    }
   ],
   "source": [
    "# Некоторые значения признаков есть в тесте, но нет в трейне и наоборот\n",
    "y_2 = df2_train['Угоняют']\n",
    "df2_train, df2_test = intersect_features(train = df2_train, test = df2_test)\n",
    "df2_train"
   ]
  },
  {
   "cell_type": "code",
   "execution_count": 204,
   "metadata": {
    "collapsed": false
   },
   "outputs": [
    {
     "data": {
      "text/html": [
       "<div>\n",
       "<table border=\"1\" class=\"dataframe\">\n",
       "  <thead>\n",
       "    <tr style=\"text-align: right;\">\n",
       "      <th></th>\n",
       "      <th>Производство_Япония</th>\n",
       "      <th>Тип_Джип</th>\n",
       "      <th>Тип_Спортивный</th>\n",
       "      <th>Повреждения_нет</th>\n",
       "      <th>Цвет_Красный</th>\n",
       "      <th>Производство_США</th>\n",
       "    </tr>\n",
       "  </thead>\n",
       "  <tbody>\n",
       "    <tr>\n",
       "      <th>0</th>\n",
       "      <td>0</td>\n",
       "      <td>0</td>\n",
       "      <td>1</td>\n",
       "      <td>1</td>\n",
       "      <td>0</td>\n",
       "      <td>1</td>\n",
       "    </tr>\n",
       "    <tr>\n",
       "      <th>1</th>\n",
       "      <td>0</td>\n",
       "      <td>0</td>\n",
       "      <td>1</td>\n",
       "      <td>1</td>\n",
       "      <td>1</td>\n",
       "      <td>0</td>\n",
       "    </tr>\n",
       "    <tr>\n",
       "      <th>2</th>\n",
       "      <td>1</td>\n",
       "      <td>1</td>\n",
       "      <td>0</td>\n",
       "      <td>1</td>\n",
       "      <td>0</td>\n",
       "      <td>0</td>\n",
       "    </tr>\n",
       "  </tbody>\n",
       "</table>\n",
       "</div>"
      ],
      "text/plain": [
       "   Производство_Япония  Тип_Джип  Тип_Спортивный  Повреждения_нет  \\\n",
       "0                    0         0               1                1   \n",
       "1                    0         0               1                1   \n",
       "2                    1         1               0                1   \n",
       "\n",
       "   Цвет_Красный  Производство_США  \n",
       "0             0                 1  \n",
       "1             1                 0  \n",
       "2             0                 0  "
      ]
     },
     "execution_count": 204,
     "metadata": {},
     "output_type": "execute_result"
    }
   ],
   "source": [
    "df2_test"
   ]
  },
  {
   "cell_type": "markdown",
   "metadata": {},
   "source": [
    "### Выдача кредита"
   ]
  },
  {
   "cell_type": "code",
   "execution_count": 205,
   "metadata": {
    "collapsed": false
   },
   "outputs": [
    {
     "data": {
      "text/html": [
       "<div>\n",
       "<table border=\"1\" class=\"dataframe\">\n",
       "  <thead>\n",
       "    <tr style=\"text-align: right;\">\n",
       "      <th></th>\n",
       "      <th>Выдать кредит</th>\n",
       "      <th>Возраст_молодой</th>\n",
       "      <th>Возраст_пожилой</th>\n",
       "      <th>Возраст_средний</th>\n",
       "      <th>Образование_высшее</th>\n",
       "      <th>Образование_специальное</th>\n",
       "      <th>Образование_среднее</th>\n",
       "      <th>Зарпалата_высокая</th>\n",
       "      <th>Зарпалата_низкая</th>\n",
       "      <th>Зарпалата_средняя</th>\n",
       "      <th>Пол</th>\n",
       "    </tr>\n",
       "  </thead>\n",
       "  <tbody>\n",
       "    <tr>\n",
       "      <th>0</th>\n",
       "      <td>0</td>\n",
       "      <td>1</td>\n",
       "      <td>0</td>\n",
       "      <td>0</td>\n",
       "      <td>1</td>\n",
       "      <td>0</td>\n",
       "      <td>0</td>\n",
       "      <td>1</td>\n",
       "      <td>0</td>\n",
       "      <td>0</td>\n",
       "      <td>1</td>\n",
       "    </tr>\n",
       "    <tr>\n",
       "      <th>1</th>\n",
       "      <td>0</td>\n",
       "      <td>0</td>\n",
       "      <td>0</td>\n",
       "      <td>1</td>\n",
       "      <td>0</td>\n",
       "      <td>1</td>\n",
       "      <td>0</td>\n",
       "      <td>1</td>\n",
       "      <td>0</td>\n",
       "      <td>0</td>\n",
       "      <td>0</td>\n",
       "    </tr>\n",
       "    <tr>\n",
       "      <th>2</th>\n",
       "      <td>0</td>\n",
       "      <td>0</td>\n",
       "      <td>0</td>\n",
       "      <td>1</td>\n",
       "      <td>1</td>\n",
       "      <td>0</td>\n",
       "      <td>0</td>\n",
       "      <td>0</td>\n",
       "      <td>0</td>\n",
       "      <td>1</td>\n",
       "      <td>0</td>\n",
       "    </tr>\n",
       "    <tr>\n",
       "      <th>3</th>\n",
       "      <td>0</td>\n",
       "      <td>0</td>\n",
       "      <td>1</td>\n",
       "      <td>0</td>\n",
       "      <td>1</td>\n",
       "      <td>0</td>\n",
       "      <td>0</td>\n",
       "      <td>1</td>\n",
       "      <td>0</td>\n",
       "      <td>0</td>\n",
       "      <td>1</td>\n",
       "    </tr>\n",
       "    <tr>\n",
       "      <th>4</th>\n",
       "      <td>1</td>\n",
       "      <td>1</td>\n",
       "      <td>0</td>\n",
       "      <td>0</td>\n",
       "      <td>1</td>\n",
       "      <td>0</td>\n",
       "      <td>0</td>\n",
       "      <td>0</td>\n",
       "      <td>1</td>\n",
       "      <td>0</td>\n",
       "      <td>1</td>\n",
       "    </tr>\n",
       "    <tr>\n",
       "      <th>5</th>\n",
       "      <td>1</td>\n",
       "      <td>0</td>\n",
       "      <td>0</td>\n",
       "      <td>1</td>\n",
       "      <td>0</td>\n",
       "      <td>0</td>\n",
       "      <td>1</td>\n",
       "      <td>0</td>\n",
       "      <td>0</td>\n",
       "      <td>1</td>\n",
       "      <td>0</td>\n",
       "    </tr>\n",
       "    <tr>\n",
       "      <th>6</th>\n",
       "      <td>1</td>\n",
       "      <td>0</td>\n",
       "      <td>1</td>\n",
       "      <td>0</td>\n",
       "      <td>0</td>\n",
       "      <td>1</td>\n",
       "      <td>0</td>\n",
       "      <td>0</td>\n",
       "      <td>0</td>\n",
       "      <td>1</td>\n",
       "      <td>0</td>\n",
       "    </tr>\n",
       "  </tbody>\n",
       "</table>\n",
       "</div>"
      ],
      "text/plain": [
       "   Выдать кредит  Возраст_молодой  Возраст_пожилой  Возраст_средний  \\\n",
       "0              0                1                0                0   \n",
       "1              0                0                0                1   \n",
       "2              0                0                0                1   \n",
       "3              0                0                1                0   \n",
       "4              1                1                0                0   \n",
       "5              1                0                0                1   \n",
       "6              1                0                1                0   \n",
       "\n",
       "   Образование_высшее  Образование_специальное  Образование_среднее  \\\n",
       "0                   1                        0                    0   \n",
       "1                   0                        1                    0   \n",
       "2                   1                        0                    0   \n",
       "3                   1                        0                    0   \n",
       "4                   1                        0                    0   \n",
       "5                   0                        0                    1   \n",
       "6                   0                        1                    0   \n",
       "\n",
       "   Зарпалата_высокая  Зарпалата_низкая  Зарпалата_средняя  Пол  \n",
       "0                  1                 0                  0    1  \n",
       "1                  1                 0                  0    0  \n",
       "2                  0                 0                  1    0  \n",
       "3                  1                 0                  0    1  \n",
       "4                  0                 1                  0    1  \n",
       "5                  0                 0                  1    0  \n",
       "6                  0                 0                  1    0  "
      ]
     },
     "execution_count": 205,
     "metadata": {},
     "output_type": "execute_result"
    }
   ],
   "source": [
    "# обучение\n",
    "\n",
    "df3_train = {}\n",
    "df3_train['Пол'] = LabelEncoder().fit_transform(['М','Ж','Ж','М','М','Ж','Ж'])\n",
    "df3_train['Возраст'] = ['молодой','средний','средний','пожилой','молодой','средний','пожилой']\n",
    "df3_train['Образование'] = ['высшее','специальное','высшее','высшее','высшее','среднее','специальное']\n",
    "df3_train['Зарпалата'] = ['высокая','высокая','средняя','высокая','низкая','средняя','средняя']\n",
    "df3_train['Выдать кредит'] = LabelEncoder().fit_transform(['+','+','+','+','-','-','-'])\n",
    "\n",
    "df3_train = create_df(df3_train, fn_3)\n",
    "df3_train['Пол'] = LabelEncoder().fit_transform(['М','Ж','Ж','М','М','Ж','Ж'])\n",
    "df3_train\n"
   ]
  },
  {
   "cell_type": "code",
   "execution_count": 206,
   "metadata": {
    "collapsed": false
   },
   "outputs": [
    {
     "data": {
      "text/html": [
       "<div>\n",
       "<table border=\"1\" class=\"dataframe\">\n",
       "  <thead>\n",
       "    <tr style=\"text-align: right;\">\n",
       "      <th></th>\n",
       "      <th>Возраст_молодой</th>\n",
       "      <th>Возраст_пожилой</th>\n",
       "      <th>Возраст_средний</th>\n",
       "      <th>Образование_высшее</th>\n",
       "      <th>Образование_специальное</th>\n",
       "      <th>Зарпалата_высокая</th>\n",
       "      <th>Зарпалата_средняя</th>\n",
       "      <th>Пол</th>\n",
       "    </tr>\n",
       "  </thead>\n",
       "  <tbody>\n",
       "    <tr>\n",
       "      <th>0</th>\n",
       "      <td>1</td>\n",
       "      <td>0</td>\n",
       "      <td>0</td>\n",
       "      <td>0</td>\n",
       "      <td>1</td>\n",
       "      <td>1</td>\n",
       "      <td>0</td>\n",
       "      <td>0</td>\n",
       "    </tr>\n",
       "    <tr>\n",
       "      <th>1</th>\n",
       "      <td>0</td>\n",
       "      <td>1</td>\n",
       "      <td>0</td>\n",
       "      <td>1</td>\n",
       "      <td>0</td>\n",
       "      <td>0</td>\n",
       "      <td>1</td>\n",
       "      <td>0</td>\n",
       "    </tr>\n",
       "    <tr>\n",
       "      <th>2</th>\n",
       "      <td>0</td>\n",
       "      <td>0</td>\n",
       "      <td>1</td>\n",
       "      <td>0</td>\n",
       "      <td>1</td>\n",
       "      <td>0</td>\n",
       "      <td>1</td>\n",
       "      <td>1</td>\n",
       "    </tr>\n",
       "  </tbody>\n",
       "</table>\n",
       "</div>"
      ],
      "text/plain": [
       "   Возраст_молодой  Возраст_пожилой  Возраст_средний  Образование_высшее  \\\n",
       "0                1                0                0                   0   \n",
       "1                0                1                0                   1   \n",
       "2                0                0                1                   0   \n",
       "\n",
       "   Образование_специальное  Зарпалата_высокая  Зарпалата_средняя  Пол  \n",
       "0                        1                  1                  0    0  \n",
       "1                        0                  0                  1    0  \n",
       "2                        1                  0                  1    1  "
      ]
     },
     "execution_count": 206,
     "metadata": {},
     "output_type": "execute_result"
    }
   ],
   "source": [
    "# тест\n",
    "\n",
    "df3_test = {}\n",
    "df3_test['Пол'] =  LabelEncoder().fit_transform(['Ж','Ж','М'])\n",
    "df3_test['Возраст'] = ['молодой','пожилой','средний']\n",
    "df3_test['Образование'] = ['специальное','высшее','специальное']\n",
    "df3_test['Зарпалата'] = ['высокая','средняя','средняя']\n",
    "\n",
    "df3_test = create_df(df3_test, fn_3)\n",
    "df3_test['Пол'] =  LabelEncoder().fit_transform(['Ж','Ж','М'])\n",
    "df3_test"
   ]
  },
  {
   "cell_type": "code",
   "execution_count": 207,
   "metadata": {
    "collapsed": false
   },
   "outputs": [
    {
     "data": {
      "text/html": [
       "<div>\n",
       "<table border=\"1\" class=\"dataframe\">\n",
       "  <thead>\n",
       "    <tr style=\"text-align: right;\">\n",
       "      <th></th>\n",
       "      <th>Возраст_молодой</th>\n",
       "      <th>Образование_специальное</th>\n",
       "      <th>Зарпалата_средняя</th>\n",
       "      <th>Зарпалата_высокая</th>\n",
       "      <th>Образование_высшее</th>\n",
       "      <th>Возраст_пожилой</th>\n",
       "      <th>Возраст_средний</th>\n",
       "      <th>Пол</th>\n",
       "    </tr>\n",
       "  </thead>\n",
       "  <tbody>\n",
       "    <tr>\n",
       "      <th>0</th>\n",
       "      <td>1</td>\n",
       "      <td>0</td>\n",
       "      <td>0</td>\n",
       "      <td>1</td>\n",
       "      <td>1</td>\n",
       "      <td>0</td>\n",
       "      <td>0</td>\n",
       "      <td>1</td>\n",
       "    </tr>\n",
       "    <tr>\n",
       "      <th>1</th>\n",
       "      <td>0</td>\n",
       "      <td>1</td>\n",
       "      <td>0</td>\n",
       "      <td>1</td>\n",
       "      <td>0</td>\n",
       "      <td>0</td>\n",
       "      <td>1</td>\n",
       "      <td>0</td>\n",
       "    </tr>\n",
       "    <tr>\n",
       "      <th>2</th>\n",
       "      <td>0</td>\n",
       "      <td>0</td>\n",
       "      <td>1</td>\n",
       "      <td>0</td>\n",
       "      <td>1</td>\n",
       "      <td>0</td>\n",
       "      <td>1</td>\n",
       "      <td>0</td>\n",
       "    </tr>\n",
       "    <tr>\n",
       "      <th>3</th>\n",
       "      <td>0</td>\n",
       "      <td>0</td>\n",
       "      <td>0</td>\n",
       "      <td>1</td>\n",
       "      <td>1</td>\n",
       "      <td>1</td>\n",
       "      <td>0</td>\n",
       "      <td>1</td>\n",
       "    </tr>\n",
       "    <tr>\n",
       "      <th>4</th>\n",
       "      <td>1</td>\n",
       "      <td>0</td>\n",
       "      <td>0</td>\n",
       "      <td>0</td>\n",
       "      <td>1</td>\n",
       "      <td>0</td>\n",
       "      <td>0</td>\n",
       "      <td>1</td>\n",
       "    </tr>\n",
       "    <tr>\n",
       "      <th>5</th>\n",
       "      <td>0</td>\n",
       "      <td>0</td>\n",
       "      <td>1</td>\n",
       "      <td>0</td>\n",
       "      <td>0</td>\n",
       "      <td>0</td>\n",
       "      <td>1</td>\n",
       "      <td>0</td>\n",
       "    </tr>\n",
       "    <tr>\n",
       "      <th>6</th>\n",
       "      <td>0</td>\n",
       "      <td>1</td>\n",
       "      <td>1</td>\n",
       "      <td>0</td>\n",
       "      <td>0</td>\n",
       "      <td>1</td>\n",
       "      <td>0</td>\n",
       "      <td>0</td>\n",
       "    </tr>\n",
       "  </tbody>\n",
       "</table>\n",
       "</div>"
      ],
      "text/plain": [
       "   Возраст_молодой  Образование_специальное  Зарпалата_средняя  \\\n",
       "0                1                        0                  0   \n",
       "1                0                        1                  0   \n",
       "2                0                        0                  1   \n",
       "3                0                        0                  0   \n",
       "4                1                        0                  0   \n",
       "5                0                        0                  1   \n",
       "6                0                        1                  1   \n",
       "\n",
       "   Зарпалата_высокая  Образование_высшее  Возраст_пожилой  Возраст_средний  \\\n",
       "0                  1                   1                0                0   \n",
       "1                  1                   0                0                1   \n",
       "2                  0                   1                0                1   \n",
       "3                  1                   1                1                0   \n",
       "4                  0                   1                0                0   \n",
       "5                  0                   0                0                1   \n",
       "6                  0                   0                1                0   \n",
       "\n",
       "   Пол  \n",
       "0    1  \n",
       "1    0  \n",
       "2    0  \n",
       "3    1  \n",
       "4    1  \n",
       "5    0  \n",
       "6    0  "
      ]
     },
     "execution_count": 207,
     "metadata": {},
     "output_type": "execute_result"
    }
   ],
   "source": [
    "# Некоторые значения признаков есть в тесте, но нет в трейне и наоборот\n",
    "y_3 = df3_train['Выдать кредит']\n",
    "df3_train, df3_test = intersect_features(train = df3_train, test = df3_test)\n",
    "df3_train"
   ]
  },
  {
   "cell_type": "code",
   "execution_count": 208,
   "metadata": {
    "collapsed": false
   },
   "outputs": [
    {
     "data": {
      "text/html": [
       "<div>\n",
       "<table border=\"1\" class=\"dataframe\">\n",
       "  <thead>\n",
       "    <tr style=\"text-align: right;\">\n",
       "      <th></th>\n",
       "      <th>Возраст_молодой</th>\n",
       "      <th>Образование_специальное</th>\n",
       "      <th>Зарпалата_средняя</th>\n",
       "      <th>Зарпалата_высокая</th>\n",
       "      <th>Образование_высшее</th>\n",
       "      <th>Возраст_пожилой</th>\n",
       "      <th>Возраст_средний</th>\n",
       "      <th>Пол</th>\n",
       "    </tr>\n",
       "  </thead>\n",
       "  <tbody>\n",
       "    <tr>\n",
       "      <th>0</th>\n",
       "      <td>1</td>\n",
       "      <td>1</td>\n",
       "      <td>0</td>\n",
       "      <td>1</td>\n",
       "      <td>0</td>\n",
       "      <td>0</td>\n",
       "      <td>0</td>\n",
       "      <td>0</td>\n",
       "    </tr>\n",
       "    <tr>\n",
       "      <th>1</th>\n",
       "      <td>0</td>\n",
       "      <td>0</td>\n",
       "      <td>1</td>\n",
       "      <td>0</td>\n",
       "      <td>1</td>\n",
       "      <td>1</td>\n",
       "      <td>0</td>\n",
       "      <td>0</td>\n",
       "    </tr>\n",
       "    <tr>\n",
       "      <th>2</th>\n",
       "      <td>0</td>\n",
       "      <td>1</td>\n",
       "      <td>1</td>\n",
       "      <td>0</td>\n",
       "      <td>0</td>\n",
       "      <td>0</td>\n",
       "      <td>1</td>\n",
       "      <td>1</td>\n",
       "    </tr>\n",
       "  </tbody>\n",
       "</table>\n",
       "</div>"
      ],
      "text/plain": [
       "   Возраст_молодой  Образование_специальное  Зарпалата_средняя  \\\n",
       "0                1                        1                  0   \n",
       "1                0                        0                  1   \n",
       "2                0                        1                  1   \n",
       "\n",
       "   Зарпалата_высокая  Образование_высшее  Возраст_пожилой  Возраст_средний  \\\n",
       "0                  1                   0                0                0   \n",
       "1                  0                   1                1                0   \n",
       "2                  0                   0                0                1   \n",
       "\n",
       "   Пол  \n",
       "0    0  \n",
       "1    0  \n",
       "2    1  "
      ]
     },
     "execution_count": 208,
     "metadata": {},
     "output_type": "execute_result"
    }
   ],
   "source": [
    "df3_test"
   ]
  },
  {
   "cell_type": "markdown",
   "metadata": {},
   "source": [
    "## Функции для расчета энтропии и прироста информации"
   ]
  },
  {
   "cell_type": "code",
   "execution_count": 209,
   "metadata": {
    "collapsed": true
   },
   "outputs": [],
   "source": [
    "# данные для теста: 9 синих шариков и 11 желтых\n",
    "b = [1 for i in range(9)] + [0 for i in range(11)]\n",
    "\n",
    "# два разбиения\n",
    "b1 = [1 for i in range(8)] + [0 for i in range(5)] # 8 синих и 5 желтых\n",
    "b2 = [1 for i in range(1)] + [0 for i in range(6)] # 1 синий и 6 желтых"
   ]
  },
  {
   "cell_type": "code",
   "execution_count": 250,
   "metadata": {
    "collapsed": false
   },
   "outputs": [],
   "source": [
    "from collections import Counter\n",
    "import math\n",
    "\n",
    "# расчет энтропии Шеннона\n",
    "def entropy(a_list):\n",
    "    \n",
    "    count = Counter(a_list)\n",
    "    total = len(a_list)\n",
    "    return (- sum([((count[val] / float(total)) * math.log((count[val] / float(total)), 2))  for val in count]))\n",
    "    "
   ]
  },
  {
   "cell_type": "code",
   "execution_count": 251,
   "metadata": {
    "collapsed": false
   },
   "outputs": [
    {
     "ename": "SyntaxError",
     "evalue": "invalid syntax (<ipython-input-251-ddaaf737617e>, line 1)",
     "output_type": "error",
     "traceback": [
      "\u001b[0;36m  File \u001b[0;32m\"<ipython-input-251-ddaaf737617e>\"\u001b[0;36m, line \u001b[0;32m1\u001b[0m\n\u001b[0;31m    print entropy([1,0,0,0,0,0,0]) # 1 синий и 6 желтых\u001b[0m\n\u001b[0m                ^\u001b[0m\n\u001b[0;31mSyntaxError\u001b[0m\u001b[0;31m:\u001b[0m invalid syntax\n"
     ]
    }
   ],
   "source": [
    "print entropy([1,0,0,0,0,0,0]) # 1 синий и 6 желтых\n",
    "print entropy(b)\n",
    "print entropy([1,2,3,4,5,6]) # энтропия игральной кости с несмещенным центром тяжести"
   ]
  },
  {
   "cell_type": "code",
   "execution_count": 215,
   "metadata": {
    "collapsed": true
   },
   "outputs": [],
   "source": [
    "# расчет прироста информации\n",
    "\n",
    "def information_gain(root, left, right):\n",
    "    ''' root - изначальный набор данных, left и right два разбиения изначального набора'''\n",
    "    return entropy(root) - len(left)/float(len(root)) * entropy(left) - len(right)/float(len(root)) * entropy(right)"
   ]
  },
  {
   "cell_type": "code",
   "execution_count": 247,
   "metadata": {
    "collapsed": false
   },
   "outputs": [
    {
     "ename": "SyntaxError",
     "evalue": "invalid syntax (<ipython-input-247-9297fd75ac35>, line 1)",
     "output_type": "error",
     "traceback": [
      "\u001b[0;36m  File \u001b[0;32m\"<ipython-input-247-9297fd75ac35>\"\u001b[0;36m, line \u001b[0;32m1\u001b[0m\n\u001b[0;31m    print information_gain(b,b1,b2)\u001b[0m\n\u001b[0m                         ^\u001b[0m\n\u001b[0;31mSyntaxError\u001b[0m\u001b[0;31m:\u001b[0m invalid syntax\n"
     ]
    }
   ],
   "source": [
    "print information_gain(b,b1,b2)"
   ]
  },
  {
   "cell_type": "code",
   "execution_count": 218,
   "metadata": {
    "collapsed": false
   },
   "outputs": [
    {
     "ename": "SyntaxError",
     "evalue": "invalid syntax (<ipython-input-218-bd16e9fa5bd0>, line 23)",
     "output_type": "error",
     "traceback": [
      "\u001b[0;36m  File \u001b[0;32m\"<ipython-input-218-bd16e9fa5bd0>\"\u001b[0;36m, line \u001b[0;32m23\u001b[0m\n\u001b[0;31m    print optimal\u001b[0m\n\u001b[0m                ^\u001b[0m\n\u001b[0;31mSyntaxError\u001b[0m\u001b[0;31m:\u001b[0m invalid syntax\n"
     ]
    }
   ],
   "source": [
    "# функция для расчета прироста информации при разбиении набора данных \n",
    "\n",
    "def split(X,y):\n",
    "    ''' Выводит прирост информации при разбиении по каждому признаку'''\n",
    "    info_gain_max = 0\n",
    "    new_left = []\n",
    "    new_right = []\n",
    "    feature_list = []\n",
    "    for x in X:\n",
    "        feature_list = list(X[x])\n",
    "        left = [y[i] for i in range(len(feature_list)) if feature_list[i] == 1]\n",
    "        right = [y[j] for j in range(len(feature_list)) if feature_list[j] == 0]\n",
    "        info_gain = information_gain(y, left, right)\n",
    "        if info_gain > info_gain_max:\n",
    "            info_gain_max = info_gain\n",
    "            optimal = x\n",
    "            X_left = X[X[optimal] == 1]\n",
    "            X_left = X_left.drop(optimal, 1)\n",
    "            X_right = X[X[optimal] == 0]\n",
    "            X_right = X_right.drop(optimal, 1)\n",
    "            new_left = left\n",
    "            new_right = right\n",
    "    print optimal\n",
    "    return X_left, new_left, X_right, new_right\n"
   ]
  },
  {
   "cell_type": "code",
   "execution_count": 217,
   "metadata": {
    "collapsed": false
   },
   "outputs": [
    {
     "data": {
      "text/plain": [
       "smc-blob::9e8ec7cd-6076-4bee-b0df-5fd7eaecd250"
      ]
     },
     "execution_count": 217,
     "metadata": {},
     "output_type": "execute_result"
    }
   ],
   "source": [
    "split(df2_train, y_2)"
   ]
  },
  {
   "cell_type": "code",
   "execution_count": 182,
   "metadata": {
    "collapsed": false
   },
   "outputs": [
    {
     "name": "stdout",
     "output_type": "stream",
     "text": [
      "Производство_Япония\n"
     ]
    }
   ],
   "source": [
    "X_left_level2, y_left_level2, X_right_level2, y_right_level2 = split(df2_train, y_2)"
   ]
  },
  {
   "cell_type": "code",
   "execution_count": 183,
   "metadata": {
    "collapsed": false
   },
   "outputs": [
    {
     "name": "stdout",
     "output_type": "stream",
     "text": [
      "Тип_Джип\n",
      "Тип_Джип\n"
     ]
    }
   ],
   "source": [
    "split(X_left_level2, y_left_level2)\n",
    "X_left_level3, y_left_level3, X_right_level3, y_right_level3 = split(X_left_level2, y_left_level2)"
   ]
  },
  {
   "cell_type": "code",
   "execution_count": 184,
   "metadata": {
    "collapsed": false
   },
   "outputs": [
    {
     "name": "stdout",
     "output_type": "stream",
     "text": [
      "Цвет_Красный\n"
     ]
    },
    {
     "data": {
      "text/plain": [
       "(   Тип_Джип  Тип_Спортивный  Повреждения_нет  Производство_США\n",
       " 0         0               1                1                 1,\n",
       " [0],\n",
       "    Тип_Джип  Тип_Спортивный  Повреждения_нет  Производство_США\n",
       " 4         0               1                0                 1\n",
       " 5         1               0                1                 1,\n",
       " [1, 1])"
      ]
     },
     "execution_count": 184,
     "metadata": {},
     "output_type": "execute_result"
    }
   ],
   "source": [
    "split(X_right_level2, y_right_level2)"
   ]
  },
  {
   "cell_type": "code",
   "execution_count": 185,
   "metadata": {
    "collapsed": false
   },
   "outputs": [
    {
     "name": "stdout",
     "output_type": "stream",
     "text": [
      "Повреждения_нет\n"
     ]
    },
    {
     "data": {
      "text/plain": [
       "(   Тип_Спортивный  Цвет_Красный  Производство_США\n",
       " 2               0             0                 0,\n",
       " [0],\n",
       "    Тип_Спортивный  Цвет_Красный  Производство_США\n",
       " 6               0             1                 0,\n",
       " [1])"
      ]
     },
     "execution_count": 185,
     "metadata": {},
     "output_type": "execute_result"
    }
   ],
   "source": [
    "split(X_left_level3, y_left_level3)"
   ]
  },
  {
   "cell_type": "markdown",
   "metadata": {},
   "source": [
    "## Постройте деревья решений для трех наборов данных. "
   ]
  },
  {
   "cell_type": "markdown",
   "metadata": {},
   "source": [
    "**Рисовать деревья можно от руки. Продвинутый уровень - отрисовка деревьев, код для построения всего дерева.**"
   ]
  },
  {
   "cell_type": "code",
   "execution_count": 219,
   "metadata": {
    "collapsed": false
   },
   "outputs": [
    {
     "name": "stdout",
     "output_type": "stream",
     "text": [
      "Populating the interactive namespace from numpy and matplotlib\n"
     ]
    }
   ],
   "source": [
    "from __future__ import division, print_function\n",
    "# отключим всякие предупреждения Anaconda\n",
    "import warnings\n",
    "warnings.filterwarnings('ignore')\n",
    "import numpy as np\n",
    "import pylab as plt\n",
    "%pylab inline\n",
    "import seaborn as sns\n",
    "figsize(10, 8)"
   ]
  },
  {
   "cell_type": "code",
   "execution_count": 252,
   "metadata": {
    "collapsed": false
   },
   "outputs": [
    {
     "data": {
      "text/html": [
       "<div>\n",
       "<table border=\"1\" class=\"dataframe\">\n",
       "  <thead>\n",
       "    <tr style=\"text-align: right;\">\n",
       "      <th></th>\n",
       "      <th>Производство_Япония</th>\n",
       "      <th>Тип_Джип</th>\n",
       "      <th>Тип_Спортивный</th>\n",
       "      <th>Повреждения_нет</th>\n",
       "      <th>Цвет_Красный</th>\n",
       "      <th>Производство_США</th>\n",
       "    </tr>\n",
       "  </thead>\n",
       "  <tbody>\n",
       "    <tr>\n",
       "      <th>0</th>\n",
       "      <td>0</td>\n",
       "      <td>0</td>\n",
       "      <td>1</td>\n",
       "      <td>1</td>\n",
       "      <td>1</td>\n",
       "      <td>1</td>\n",
       "    </tr>\n",
       "    <tr>\n",
       "      <th>1</th>\n",
       "      <td>1</td>\n",
       "      <td>0</td>\n",
       "      <td>1</td>\n",
       "      <td>1</td>\n",
       "      <td>0</td>\n",
       "      <td>0</td>\n",
       "    </tr>\n",
       "    <tr>\n",
       "      <th>2</th>\n",
       "      <td>1</td>\n",
       "      <td>1</td>\n",
       "      <td>0</td>\n",
       "      <td>1</td>\n",
       "      <td>0</td>\n",
       "      <td>0</td>\n",
       "    </tr>\n",
       "    <tr>\n",
       "      <th>3</th>\n",
       "      <td>1</td>\n",
       "      <td>0</td>\n",
       "      <td>1</td>\n",
       "      <td>0</td>\n",
       "      <td>1</td>\n",
       "      <td>0</td>\n",
       "    </tr>\n",
       "    <tr>\n",
       "      <th>4</th>\n",
       "      <td>0</td>\n",
       "      <td>0</td>\n",
       "      <td>1</td>\n",
       "      <td>0</td>\n",
       "      <td>0</td>\n",
       "      <td>1</td>\n",
       "    </tr>\n",
       "  </tbody>\n",
       "</table>\n",
       "</div>"
      ],
      "text/plain": [
       "   Производство_Япония  Тип_Джип  Тип_Спортивный  Повреждения_нет  \\\n",
       "0                    0         0               1                1   \n",
       "1                    1         0               1                1   \n",
       "2                    1         1               0                1   \n",
       "3                    1         0               1                0   \n",
       "4                    0         0               1                0   \n",
       "\n",
       "   Цвет_Красный  Производство_США  \n",
       "0             1                 1  \n",
       "1             0                 0  \n",
       "2             0                 0  \n",
       "3             1                 0  \n",
       "4             0                 1  "
      ]
     },
     "execution_count": 252,
     "metadata": {},
     "output_type": "execute_result"
    }
   ],
   "source": [
    "df2_train.head()"
   ]
  },
  {
   "cell_type": "code",
   "execution_count": 237,
   "metadata": {
    "collapsed": false
   },
   "outputs": [
    {
     "data": {
      "text/plain": [
       "DecisionTreeClassifier(class_weight=None, criterion='entropy', max_depth=5,\n",
       "            max_features=None, max_leaf_nodes=None,\n",
       "            min_impurity_split=1e-07, min_samples_leaf=1,\n",
       "            min_samples_split=2, min_weight_fraction_leaf=0.0,\n",
       "            presort=False, random_state=42, splitter='best')"
      ]
     },
     "execution_count": 237,
     "metadata": {},
     "output_type": "execute_result"
    }
   ],
   "source": [
    "tree = DecisionTreeClassifier(max_depth=5, criterion = 'entropy', random_state=42)\n",
    "tree.fit(df2_train, y_2)"
   ]
  },
  {
   "cell_type": "code",
   "execution_count": 265,
   "metadata": {
    "collapsed": false
   },
   "outputs": [
    {
     "ename": "IndexError",
     "evalue": "list index out of range",
     "output_type": "error",
     "traceback": [
      "\u001b[0;31m---------------------------------------------------------------------------\u001b[0m",
      "\u001b[0;31mIndexError\u001b[0m                                Traceback (most recent call last)",
      "\u001b[0;32m<ipython-input-265-9a6cef00cb3f>\u001b[0m in \u001b[0;36m<module>\u001b[0;34m()\u001b[0m\n\u001b[1;32m      1\u001b[0m \u001b[0;32mfrom\u001b[0m \u001b[0msklearn\u001b[0m\u001b[0;34m.\u001b[0m\u001b[0mtree\u001b[0m \u001b[0;32mimport\u001b[0m \u001b[0mexport_graphviz\u001b[0m\u001b[0;34m\u001b[0m\u001b[0m\n\u001b[0;32m----> 2\u001b[0;31m \u001b[0mexport_graphviz\u001b[0m\u001b[0;34m(\u001b[0m\u001b[0mtree\u001b[0m\u001b[0;34m,\u001b[0m \u001b[0mfeature_names\u001b[0m \u001b[0;34m=\u001b[0m \u001b[0;34m[\u001b[0m\u001b[0;34m'Производство_Япония'\u001b[0m\u001b[0;34m,\u001b[0m \u001b[0;34m'Тип_Джип'\u001b[0m\u001b[0;34m,\u001b[0m \u001b[0;34m'Тип_Спортивный'\u001b[0m\u001b[0;34m,\u001b[0m \u001b[0;34m'Повреждения_нет'\u001b[0m\u001b[0;34m,\u001b[0m \u001b[0;34m'Цвет_Красный'\u001b[0m\u001b[0;34m,\u001b[0m \u001b[0;34m'Производство_США'\u001b[0m\u001b[0;34m]\u001b[0m\u001b[0;34m,\u001b[0m \u001b[0mout_file\u001b[0m\u001b[0;34m=\u001b[0m\u001b[0;34m'df2.dot'\u001b[0m\u001b[0;34m)\u001b[0m\u001b[0;34m\u001b[0m\u001b[0m\n\u001b[0m\u001b[1;32m      3\u001b[0m \u001b[0mget_ipython\u001b[0m\u001b[0;34m(\u001b[0m\u001b[0;34m)\u001b[0m\u001b[0;34m.\u001b[0m\u001b[0msystem\u001b[0m\u001b[0;34m(\u001b[0m\u001b[0;34mu\"dot -Tpng 'df2.dot' -o 'df2.png'\"\u001b[0m\u001b[0;34m)\u001b[0m\u001b[0;34m\u001b[0m\u001b[0m\n",
      "\u001b[0;32m/projects/sage/sage-7.5/local/lib/python2.7/site-packages/sklearn/tree/export.py\u001b[0m in \u001b[0;36mexport_graphviz\u001b[0;34m(decision_tree, out_file, max_depth, feature_names, class_names, label, filled, leaves_parallel, impurity, node_ids, proportion, rotate, rounded, special_characters)\u001b[0m\n\u001b[1;32m    431\u001b[0m             \u001b[0mrecurse\u001b[0m\u001b[0;34m(\u001b[0m\u001b[0mdecision_tree\u001b[0m\u001b[0;34m,\u001b[0m \u001b[0;36m0\u001b[0m\u001b[0;34m,\u001b[0m \u001b[0mcriterion\u001b[0m\u001b[0;34m=\u001b[0m\u001b[0;34m\"impurity\"\u001b[0m\u001b[0;34m)\u001b[0m\u001b[0;34m\u001b[0m\u001b[0m\n\u001b[1;32m    432\u001b[0m         \u001b[0;32melse\u001b[0m\u001b[0;34m:\u001b[0m\u001b[0;34m\u001b[0m\u001b[0m\n\u001b[0;32m--> 433\u001b[0;31m             \u001b[0mrecurse\u001b[0m\u001b[0;34m(\u001b[0m\u001b[0mdecision_tree\u001b[0m\u001b[0;34m.\u001b[0m\u001b[0mtree_\u001b[0m\u001b[0;34m,\u001b[0m \u001b[0;36m0\u001b[0m\u001b[0;34m,\u001b[0m \u001b[0mcriterion\u001b[0m\u001b[0;34m=\u001b[0m\u001b[0mdecision_tree\u001b[0m\u001b[0;34m.\u001b[0m\u001b[0mcriterion\u001b[0m\u001b[0;34m)\u001b[0m\u001b[0;34m\u001b[0m\u001b[0m\n\u001b[0m\u001b[1;32m    434\u001b[0m \u001b[0;34m\u001b[0m\u001b[0m\n\u001b[1;32m    435\u001b[0m         \u001b[0;31m# If required, draw leaf nodes at same depth as each other\u001b[0m\u001b[0;34m\u001b[0m\u001b[0;34m\u001b[0m\u001b[0m\n",
      "\u001b[0;32m/projects/sage/sage-7.5/local/lib/python2.7/site-packages/sklearn/tree/export.py\u001b[0m in \u001b[0;36mrecurse\u001b[0;34m(tree, node_id, criterion, parent, depth)\u001b[0m\n\u001b[1;32m    361\u001b[0m             \u001b[0;32mif\u001b[0m \u001b[0mleft_child\u001b[0m \u001b[0;34m!=\u001b[0m \u001b[0m_tree\u001b[0m\u001b[0;34m.\u001b[0m\u001b[0mTREE_LEAF\u001b[0m\u001b[0;34m:\u001b[0m\u001b[0;34m\u001b[0m\u001b[0m\n\u001b[1;32m    362\u001b[0m                 recurse(tree, left_child, criterion=criterion, parent=node_id,\n\u001b[0;32m--> 363\u001b[0;31m                         depth=depth + 1)\n\u001b[0m\u001b[1;32m    364\u001b[0m                 recurse(tree, right_child, criterion=criterion, parent=node_id,\n\u001b[1;32m    365\u001b[0m                         depth=depth + 1)\n",
      "\u001b[0;32m/projects/sage/sage-7.5/local/lib/python2.7/site-packages/sklearn/tree/export.py\u001b[0m in \u001b[0;36mrecurse\u001b[0;34m(tree, node_id, criterion, parent, depth)\u001b[0m\n\u001b[1;32m    363\u001b[0m                         depth=depth + 1)\n\u001b[1;32m    364\u001b[0m                 recurse(tree, right_child, criterion=criterion, parent=node_id,\n\u001b[0;32m--> 365\u001b[0;31m                         depth=depth + 1)\n\u001b[0m\u001b[1;32m    366\u001b[0m \u001b[0;34m\u001b[0m\u001b[0m\n\u001b[1;32m    367\u001b[0m         \u001b[0;32melse\u001b[0m\u001b[0;34m:\u001b[0m\u001b[0;34m\u001b[0m\u001b[0m\n",
      "\u001b[0;32m/projects/sage/sage-7.5/local/lib/python2.7/site-packages/sklearn/tree/export.py\u001b[0m in \u001b[0;36mrecurse\u001b[0;34m(tree, node_id, criterion, parent, depth)\u001b[0m\n\u001b[1;32m    319\u001b[0m             out_file.write('%d [label=%s'\n\u001b[1;32m    320\u001b[0m                            % (node_id,\n\u001b[0;32m--> 321\u001b[0;31m                               node_to_str(tree, node_id, criterion)))\n\u001b[0m\u001b[1;32m    322\u001b[0m \u001b[0;34m\u001b[0m\u001b[0m\n\u001b[1;32m    323\u001b[0m             \u001b[0;32mif\u001b[0m \u001b[0mfilled\u001b[0m\u001b[0;34m:\u001b[0m\u001b[0;34m\u001b[0m\u001b[0m\n",
      "\u001b[0;32m/projects/sage/sage-7.5/local/lib/python2.7/site-packages/sklearn/tree/export.py\u001b[0m in \u001b[0;36mnode_to_str\u001b[0;34m(tree, node_id, criterion)\u001b[0m\n\u001b[1;32m    217\u001b[0m             \u001b[0;31m# Always write node decision criteria, except for leaves\u001b[0m\u001b[0;34m\u001b[0m\u001b[0;34m\u001b[0m\u001b[0m\n\u001b[1;32m    218\u001b[0m             \u001b[0;32mif\u001b[0m \u001b[0mfeature_names\u001b[0m \u001b[0;32mis\u001b[0m \u001b[0;32mnot\u001b[0m \u001b[0mNone\u001b[0m\u001b[0;34m:\u001b[0m\u001b[0;34m\u001b[0m\u001b[0m\n\u001b[0;32m--> 219\u001b[0;31m                 \u001b[0mfeature\u001b[0m \u001b[0;34m=\u001b[0m \u001b[0mfeature_names\u001b[0m\u001b[0;34m[\u001b[0m\u001b[0mtree\u001b[0m\u001b[0;34m.\u001b[0m\u001b[0mfeature\u001b[0m\u001b[0;34m[\u001b[0m\u001b[0mnode_id\u001b[0m\u001b[0;34m]\u001b[0m\u001b[0;34m]\u001b[0m\u001b[0;34m\u001b[0m\u001b[0m\n\u001b[0m\u001b[1;32m    220\u001b[0m             \u001b[0;32melse\u001b[0m\u001b[0;34m:\u001b[0m\u001b[0;34m\u001b[0m\u001b[0m\n\u001b[1;32m    221\u001b[0m                 feature = \"X%s%s%s\" % (characters[1],\n",
      "\u001b[0;31mIndexError\u001b[0m: list index out of range"
     ]
    }
   ],
   "source": [
    "from sklearn.tree import export_graphviz\n",
    "export_graphviz(tree, feature_names = ['Производство_Япония', 'Тип_Джип', 'Тип_Спортивный', 'Повреждения_нет', 'Цвет_Красный', 'Производство_США'], out_file='df2.dot')\n",
    "!dot -Tpng 'df2.dot' -o 'df2.png'"
   ]
  },
  {
   "cell_type": "code",
   "execution_count": 253,
   "metadata": {
    "collapsed": false
   },
   "outputs": [
    {
     "data": {
      "text/html": [
       "<div>\n",
       "<table border=\"1\" class=\"dataframe\">\n",
       "  <thead>\n",
       "    <tr style=\"text-align: right;\">\n",
       "      <th></th>\n",
       "      <th>Доход_средний</th>\n",
       "      <th>Внешность_приятная</th>\n",
       "      <th>Возраст_молодой</th>\n",
       "      <th>Образование_специальное</th>\n",
       "      <th>Доход_низкий</th>\n",
       "      <th>Образование_высшее</th>\n",
       "      <th>Возраст_пожилой</th>\n",
       "      <th>Доход_высокий</th>\n",
       "      <th>Возраст_средний</th>\n",
       "      <th>Внешность_отталкивающая</th>\n",
       "    </tr>\n",
       "  </thead>\n",
       "  <tbody>\n",
       "    <tr>\n",
       "      <th>0</th>\n",
       "      <td>0</td>\n",
       "      <td>1</td>\n",
       "      <td>1</td>\n",
       "      <td>1</td>\n",
       "      <td>0</td>\n",
       "      <td>0</td>\n",
       "      <td>0</td>\n",
       "      <td>1</td>\n",
       "      <td>0</td>\n",
       "      <td>0</td>\n",
       "    </tr>\n",
       "    <tr>\n",
       "      <th>1</th>\n",
       "      <td>0</td>\n",
       "      <td>1</td>\n",
       "      <td>0</td>\n",
       "      <td>0</td>\n",
       "      <td>0</td>\n",
       "      <td>1</td>\n",
       "      <td>0</td>\n",
       "      <td>1</td>\n",
       "      <td>1</td>\n",
       "      <td>0</td>\n",
       "    </tr>\n",
       "    <tr>\n",
       "      <th>2</th>\n",
       "      <td>0</td>\n",
       "      <td>1</td>\n",
       "      <td>0</td>\n",
       "      <td>0</td>\n",
       "      <td>0</td>\n",
       "      <td>1</td>\n",
       "      <td>1</td>\n",
       "      <td>1</td>\n",
       "      <td>0</td>\n",
       "      <td>0</td>\n",
       "    </tr>\n",
       "    <tr>\n",
       "      <th>3</th>\n",
       "      <td>1</td>\n",
       "      <td>1</td>\n",
       "      <td>0</td>\n",
       "      <td>0</td>\n",
       "      <td>0</td>\n",
       "      <td>1</td>\n",
       "      <td>0</td>\n",
       "      <td>0</td>\n",
       "      <td>1</td>\n",
       "      <td>0</td>\n",
       "    </tr>\n",
       "    <tr>\n",
       "      <th>4</th>\n",
       "      <td>0</td>\n",
       "      <td>1</td>\n",
       "      <td>1</td>\n",
       "      <td>1</td>\n",
       "      <td>1</td>\n",
       "      <td>0</td>\n",
       "      <td>0</td>\n",
       "      <td>0</td>\n",
       "      <td>0</td>\n",
       "      <td>0</td>\n",
       "    </tr>\n",
       "  </tbody>\n",
       "</table>\n",
       "</div>"
      ],
      "text/plain": [
       "   Доход_средний  Внешность_приятная  Возраст_молодой  \\\n",
       "0              0                   1                1   \n",
       "1              0                   1                0   \n",
       "2              0                   1                0   \n",
       "3              1                   1                0   \n",
       "4              0                   1                1   \n",
       "\n",
       "   Образование_специальное  Доход_низкий  Образование_высшее  Возраст_пожилой  \\\n",
       "0                        1             0                   0                0   \n",
       "1                        0             0                   1                0   \n",
       "2                        0             0                   1                1   \n",
       "3                        0             0                   1                0   \n",
       "4                        1             1                   0                0   \n",
       "\n",
       "   Доход_высокий  Возраст_средний  Внешность_отталкивающая  \n",
       "0              1                0                        0  \n",
       "1              1                1                        0  \n",
       "2              1                0                        0  \n",
       "3              0                1                        0  \n",
       "4              0                0                        0  "
      ]
     },
     "execution_count": 253,
     "metadata": {},
     "output_type": "execute_result"
    }
   ],
   "source": [
    "df1_train.head()"
   ]
  },
  {
   "cell_type": "code",
   "execution_count": 258,
   "metadata": {
    "collapsed": false
   },
   "outputs": [
    {
     "data": {
      "text/plain": [
       "DecisionTreeClassifier(class_weight=None, criterion='entropy', max_depth=5,\n",
       "            max_features=None, max_leaf_nodes=None,\n",
       "            min_impurity_split=1e-07, min_samples_leaf=1,\n",
       "            min_samples_split=2, min_weight_fraction_leaf=0.0,\n",
       "            presort=False, random_state=42, splitter='best')"
      ]
     },
     "execution_count": 258,
     "metadata": {},
     "output_type": "execute_result"
    }
   ],
   "source": [
    "tree1 = DecisionTreeClassifier(max_depth=5, criterion = 'entropy', random_state=42)\n",
    "tree1.fit(df1_train, y_1)"
   ]
  },
  {
   "cell_type": "code",
   "execution_count": 259,
   "metadata": {
    "collapsed": true
   },
   "outputs": [],
   "source": [
    "from sklearn.tree import export_graphviz\n",
    "export_graphviz(tree1, feature_names = ['Доход_средний', 'Внешность_приятная', 'Возраст_молодой', 'Образование_специальное', 'Доход_низкий', 'Образование_высшее', 'Возраст_пожилой',\n",
    "                                       'Доход_высокий', 'Возраст_средний', 'Внешность_отталкивающая'], out_file='df1.dot')\n",
    "!dot -Tpng 'df1.dot' -o 'df1.png'"
   ]
  },
  {
   "cell_type": "code",
   "execution_count": 256,
   "metadata": {
    "collapsed": false
   },
   "outputs": [
    {
     "data": {
      "text/html": [
       "<div>\n",
       "<table border=\"1\" class=\"dataframe\">\n",
       "  <thead>\n",
       "    <tr style=\"text-align: right;\">\n",
       "      <th></th>\n",
       "      <th>Возраст_молодой</th>\n",
       "      <th>Образование_специальное</th>\n",
       "      <th>Зарпалата_средняя</th>\n",
       "      <th>Зарпалата_высокая</th>\n",
       "      <th>Образование_высшее</th>\n",
       "      <th>Возраст_пожилой</th>\n",
       "      <th>Возраст_средний</th>\n",
       "      <th>Пол</th>\n",
       "    </tr>\n",
       "  </thead>\n",
       "  <tbody>\n",
       "    <tr>\n",
       "      <th>0</th>\n",
       "      <td>1</td>\n",
       "      <td>0</td>\n",
       "      <td>0</td>\n",
       "      <td>1</td>\n",
       "      <td>1</td>\n",
       "      <td>0</td>\n",
       "      <td>0</td>\n",
       "      <td>1</td>\n",
       "    </tr>\n",
       "    <tr>\n",
       "      <th>1</th>\n",
       "      <td>0</td>\n",
       "      <td>1</td>\n",
       "      <td>0</td>\n",
       "      <td>1</td>\n",
       "      <td>0</td>\n",
       "      <td>0</td>\n",
       "      <td>1</td>\n",
       "      <td>0</td>\n",
       "    </tr>\n",
       "    <tr>\n",
       "      <th>2</th>\n",
       "      <td>0</td>\n",
       "      <td>0</td>\n",
       "      <td>1</td>\n",
       "      <td>0</td>\n",
       "      <td>1</td>\n",
       "      <td>0</td>\n",
       "      <td>1</td>\n",
       "      <td>0</td>\n",
       "    </tr>\n",
       "    <tr>\n",
       "      <th>3</th>\n",
       "      <td>0</td>\n",
       "      <td>0</td>\n",
       "      <td>0</td>\n",
       "      <td>1</td>\n",
       "      <td>1</td>\n",
       "      <td>1</td>\n",
       "      <td>0</td>\n",
       "      <td>1</td>\n",
       "    </tr>\n",
       "    <tr>\n",
       "      <th>4</th>\n",
       "      <td>1</td>\n",
       "      <td>0</td>\n",
       "      <td>0</td>\n",
       "      <td>0</td>\n",
       "      <td>1</td>\n",
       "      <td>0</td>\n",
       "      <td>0</td>\n",
       "      <td>1</td>\n",
       "    </tr>\n",
       "  </tbody>\n",
       "</table>\n",
       "</div>"
      ],
      "text/plain": [
       "   Возраст_молодой  Образование_специальное  Зарпалата_средняя  \\\n",
       "0                1                        0                  0   \n",
       "1                0                        1                  0   \n",
       "2                0                        0                  1   \n",
       "3                0                        0                  0   \n",
       "4                1                        0                  0   \n",
       "\n",
       "   Зарпалата_высокая  Образование_высшее  Возраст_пожилой  Возраст_средний  \\\n",
       "0                  1                   1                0                0   \n",
       "1                  1                   0                0                1   \n",
       "2                  0                   1                0                1   \n",
       "3                  1                   1                1                0   \n",
       "4                  0                   1                0                0   \n",
       "\n",
       "   Пол  \n",
       "0    1  \n",
       "1    0  \n",
       "2    0  \n",
       "3    1  \n",
       "4    1  "
      ]
     },
     "execution_count": 256,
     "metadata": {},
     "output_type": "execute_result"
    }
   ],
   "source": [
    "df3_train.head()"
   ]
  },
  {
   "cell_type": "code",
   "execution_count": 260,
   "metadata": {
    "collapsed": false
   },
   "outputs": [
    {
     "data": {
      "text/plain": [
       "DecisionTreeClassifier(class_weight=None, criterion='entropy', max_depth=5,\n",
       "            max_features=None, max_leaf_nodes=None,\n",
       "            min_impurity_split=1e-07, min_samples_leaf=1,\n",
       "            min_samples_split=2, min_weight_fraction_leaf=0.0,\n",
       "            presort=False, random_state=42, splitter='best')"
      ]
     },
     "execution_count": 260,
     "metadata": {},
     "output_type": "execute_result"
    }
   ],
   "source": [
    "tree3 = DecisionTreeClassifier(max_depth=5, criterion = 'entropy', random_state=42)\n",
    "tree3.fit(df3_train, y_3)"
   ]
  },
  {
   "cell_type": "code",
   "execution_count": 263,
   "metadata": {
    "collapsed": true
   },
   "outputs": [],
   "source": [
    "from sklearn.tree import export_graphviz\n",
    "export_graphviz(tree, feature_names = ['Возраст_молодой', 'Образование_специальное', 'Зарплата_средняя', 'Зарплата_высокая', 'Образование_высшее', 'Возраст_пожилой', 'Возраст_средний',\n",
    "                                       'Пол'], out_file='df3.dot')\n",
    "!dot -Tpng 'df3.dot' -o 'df3.png'"
   ]
  },
  {
   "cell_type": "code",
   "execution_count": null,
   "metadata": {
    "collapsed": false
   },
   "outputs": [],
   "source": []
  },
  {
   "cell_type": "code",
   "execution_count": null,
   "metadata": {
    "collapsed": true
   },
   "outputs": [],
   "source": []
  }
 ],
 "metadata": {
  "kernelspec": {
   "display_name": "Python 2 (SageMath)",
   "language": "python",
   "name": "python2"
  },
  "language_info": {
   "codemirror_mode": {
    "name": "ipython",
    "version": 2
   },
   "file_extension": ".py",
   "mimetype": "text/x-python",
   "name": "python",
   "nbconvert_exporter": "python",
   "pygments_lexer": "ipython2",
   "version": "2.7.13"
  }
 },
 "nbformat": 4,
 "nbformat_minor": 0
}
