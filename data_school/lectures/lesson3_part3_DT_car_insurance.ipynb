{
 "cells": [
  {
   "cell_type": "markdown",
   "metadata": {
    "collapsed": true
   },
   "source": [
    "<center>\n",
    "<img src=\"../../img/beeline_data_school_logo.png\">\n",
    "# \"Прикладной анализ данных\"\n",
    "#### Интенсивный курс по изучению машинного обучения и анализа данных\n",
    "<img src=\"../../img/beeline_logo.jpg\" height=\"240\" width=\"240\">\n",
    "## Автор материала: преподаватель Факультета Компьютерных Наук НИУ ВШЭ Кашницкий Юрий\n",
    "</center>\n",
    "Материал распространяется на условиях лицензии <a href=\"https://opensource.org/licenses/MS-RL\">Ms-RL</a>. Можно использовать в любых целях, кроме коммерческих, но с обязательным упоминанием автора материала."
   ]
  },
  {
   "cell_type": "markdown",
   "metadata": {
    "collapsed": true
   },
   "source": [
    "# Занятие 3. Обучение с учителем. Задачи классификации и регрессии\n",
    "## Часть 3. Соревнование Kaggle Inclass по автострахованию"
   ]
  },
  {
   "cell_type": "markdown",
   "metadata": {},
   "source": [
    "[Соревнование](https://inclass.kaggle.com/c/beeline-data-school-4-car-insurance-2016), исходное <a href=\"http://microsoftbi.ru/2015/06/06/hackathon2015ml/\">описание</a> задачи. \n",
    "\n",
    "Задача бинарной классификации. Имеются автомобили, для которых указан регистрационный номер и марка, и выплаты страховой компании по инцидентам с участием данного автомобиля. Страховая компания для себя решает, много она заплатила или мало. \n",
    "\n",
    "Объекты - автомобили.\n",
    "\n",
    "Признаки:\n",
    "\n",
    "- ID записи\n",
    "- Регистрационный номер автомобиля (auto_number, строка)\n",
    "- Марка автомобиля (auto_brand, строка)\n",
    "- Сумма выплаты при попадании водителя в аварию (compensated, целое положительное число)\n",
    "- Тип выплаты (too_much) (много/мало, 1 или 0)"
   ]
  },
  {
   "cell_type": "markdown",
   "metadata": {},
   "source": [
    "### Загрузка и первичный анализ данных"
   ]
  },
  {
   "cell_type": "code",
   "execution_count": 1,
   "metadata": {
    "collapsed": false
   },
   "outputs": [
    {
     "name": "stdout",
     "output_type": "stream",
     "text": [
      "Populating the interactive namespace from numpy and matplotlib\n"
     ]
    }
   ],
   "source": [
    "from __future__ import division, print_function\n",
    "# отключим всякие предупреждения Anaconda\n",
    "import warnings\n",
    "warnings.filterwarnings('ignore')\n",
    "import numpy as np\n",
    "import pandas as pd\n",
    "from sklearn import preprocessing\n",
    "from sklearn.tree import DecisionTreeClassifier, export_graphviz\n",
    "from sklearn.ensemble import RandomForestClassifier\n",
    "from sklearn.grid_search import GridSearchCV\n",
    "from sklearn.metrics import roc_auc_score, accuracy_score, confusion_matrix\n",
    "%pylab inline\n",
    "#import seaborn as sns\n",
    "figsize(12, 8)"
   ]
  },
  {
   "cell_type": "markdown",
   "metadata": {},
   "source": [
    "**Считаем обучающую и тестовую выборку, создав объекты Pandas DataFrame.**"
   ]
  },
  {
   "cell_type": "code",
   "execution_count": 2,
   "metadata": {
    "collapsed": false
   },
   "outputs": [],
   "source": [
    "train_df = pd.read_csv(\"../../data/car_insurance_train.csv\",\n",
    "                      index_col=0)\n",
    "test_df = pd.read_csv(\"../../data/car_insurance_test.csv\",\n",
    "                        index_col=0)"
   ]
  },
  {
   "cell_type": "code",
   "execution_count": 4,
   "metadata": {
    "collapsed": false
   },
   "outputs": [
    {
     "data": {
      "text/html": [
       "<div>\n",
       "<table border=\"1\" class=\"dataframe\">\n",
       "  <thead>\n",
       "    <tr style=\"text-align: right;\">\n",
       "      <th></th>\n",
       "      <th>auto_number</th>\n",
       "      <th>auto_brand</th>\n",
       "      <th>compensated</th>\n",
       "      <th>too_much</th>\n",
       "    </tr>\n",
       "    <tr>\n",
       "      <th>id</th>\n",
       "      <th></th>\n",
       "      <th></th>\n",
       "      <th></th>\n",
       "      <th></th>\n",
       "    </tr>\n",
       "  </thead>\n",
       "  <tbody>\n",
       "    <tr>\n",
       "      <th>1</th>\n",
       "      <td>Y163O8161RUS</td>\n",
       "      <td>Ford Focus</td>\n",
       "      <td>3200</td>\n",
       "      <td>1</td>\n",
       "    </tr>\n",
       "    <tr>\n",
       "      <th>2</th>\n",
       "      <td>E432XX77RUS</td>\n",
       "      <td>Toyota Camry</td>\n",
       "      <td>6500</td>\n",
       "      <td>0</td>\n",
       "    </tr>\n",
       "    <tr>\n",
       "      <th>3</th>\n",
       "      <td>7184TT36RUS</td>\n",
       "      <td>Ford Focus</td>\n",
       "      <td>2100</td>\n",
       "      <td>0</td>\n",
       "    </tr>\n",
       "    <tr>\n",
       "      <th>4</th>\n",
       "      <td>X582HE161RUS</td>\n",
       "      <td>Ford Focus</td>\n",
       "      <td>2000</td>\n",
       "      <td>1</td>\n",
       "    </tr>\n",
       "    <tr>\n",
       "      <th>5</th>\n",
       "      <td>E34877152RUS</td>\n",
       "      <td>Ford Focus</td>\n",
       "      <td>6100</td>\n",
       "      <td>1</td>\n",
       "    </tr>\n",
       "  </tbody>\n",
       "</table>\n",
       "</div>"
      ],
      "text/plain": [
       "     auto_number    auto_brand  compensated  too_much\n",
       "id                                                   \n",
       "1   Y163O8161RUS    Ford Focus         3200         1\n",
       "2    E432XX77RUS  Toyota Camry         6500         0\n",
       "3    7184TT36RUS    Ford Focus         2100         0\n",
       "4   X582HE161RUS    Ford Focus         2000         1\n",
       "5   E34877152RUS    Ford Focus         6100         1"
      ]
     },
     "execution_count": 4,
     "metadata": {},
     "output_type": "execute_result"
    }
   ],
   "source": [
    "train_df.head()"
   ]
  },
  {
   "cell_type": "code",
   "execution_count": 4,
   "metadata": {
    "collapsed": false
   },
   "outputs": [
    {
     "data": {
      "text/html": [
       "<div>\n",
       "<table border=\"1\" class=\"dataframe\">\n",
       "  <thead>\n",
       "    <tr style=\"text-align: right;\">\n",
       "      <th></th>\n",
       "      <th>auto_number</th>\n",
       "      <th>auto_brand</th>\n",
       "      <th>compensated</th>\n",
       "      <th>too_much</th>\n",
       "    </tr>\n",
       "    <tr>\n",
       "      <th>id</th>\n",
       "      <th></th>\n",
       "      <th></th>\n",
       "      <th></th>\n",
       "      <th></th>\n",
       "    </tr>\n",
       "  </thead>\n",
       "  <tbody>\n",
       "    <tr>\n",
       "      <th>1</th>\n",
       "      <td>Y163O8161RUS</td>\n",
       "      <td>Ford Focus</td>\n",
       "      <td>3200</td>\n",
       "      <td>1</td>\n",
       "    </tr>\n",
       "    <tr>\n",
       "      <th>2</th>\n",
       "      <td>E432XX77RUS</td>\n",
       "      <td>Toyota Camry</td>\n",
       "      <td>6500</td>\n",
       "      <td>0</td>\n",
       "    </tr>\n",
       "    <tr>\n",
       "      <th>3</th>\n",
       "      <td>7184TT36RUS</td>\n",
       "      <td>Ford Focus</td>\n",
       "      <td>2100</td>\n",
       "      <td>0</td>\n",
       "    </tr>\n",
       "    <tr>\n",
       "      <th>4</th>\n",
       "      <td>X582HE161RUS</td>\n",
       "      <td>Ford Focus</td>\n",
       "      <td>2000</td>\n",
       "      <td>1</td>\n",
       "    </tr>\n",
       "    <tr>\n",
       "      <th>5</th>\n",
       "      <td>E34877152RUS</td>\n",
       "      <td>Ford Focus</td>\n",
       "      <td>6100</td>\n",
       "      <td>1</td>\n",
       "    </tr>\n",
       "    <tr>\n",
       "      <th>6</th>\n",
       "      <td>92918M178RUS</td>\n",
       "      <td>Ford Focus</td>\n",
       "      <td>5700</td>\n",
       "      <td>0</td>\n",
       "    </tr>\n",
       "    <tr>\n",
       "      <th>7</th>\n",
       "      <td>E53488152RUS</td>\n",
       "      <td>Ford Focus</td>\n",
       "      <td>1800</td>\n",
       "      <td>1</td>\n",
       "    </tr>\n",
       "    <tr>\n",
       "      <th>8</th>\n",
       "      <td>X4128H125RUS</td>\n",
       "      <td>Ford Focus</td>\n",
       "      <td>500</td>\n",
       "      <td>0</td>\n",
       "    </tr>\n",
       "    <tr>\n",
       "      <th>9</th>\n",
       "      <td>C593EY154RUS</td>\n",
       "      <td>Ford Focus</td>\n",
       "      <td>1000</td>\n",
       "      <td>0</td>\n",
       "    </tr>\n",
       "    <tr>\n",
       "      <th>10</th>\n",
       "      <td>8049HT125RUS</td>\n",
       "      <td>Ford Focus</td>\n",
       "      <td>500</td>\n",
       "      <td>0</td>\n",
       "    </tr>\n",
       "  </tbody>\n",
       "</table>\n",
       "</div>"
      ],
      "text/plain": [
       "     auto_number    auto_brand  compensated  too_much\n",
       "id                                                   \n",
       "1   Y163O8161RUS    Ford Focus         3200         1\n",
       "2    E432XX77RUS  Toyota Camry         6500         0\n",
       "3    7184TT36RUS    Ford Focus         2100         0\n",
       "4   X582HE161RUS    Ford Focus         2000         1\n",
       "5   E34877152RUS    Ford Focus         6100         1\n",
       "6   92918M178RUS    Ford Focus         5700         0\n",
       "7   E53488152RUS    Ford Focus         1800         1\n",
       "8   X4128H125RUS    Ford Focus          500         0\n",
       "9   C593EY154RUS    Ford Focus         1000         0\n",
       "10  8049HT125RUS    Ford Focus          500         0"
      ]
     },
     "execution_count": 4,
     "metadata": {},
     "output_type": "execute_result"
    }
   ],
   "source": [
    "train_df.head(10)"
   ]
  },
  {
   "cell_type": "code",
   "execution_count": 5,
   "metadata": {
    "collapsed": false
   },
   "outputs": [
    {
     "data": {
      "text/html": [
       "<div>\n",
       "<table border=\"1\" class=\"dataframe\">\n",
       "  <thead>\n",
       "    <tr style=\"text-align: right;\">\n",
       "      <th></th>\n",
       "      <th>auto_number</th>\n",
       "      <th>auto_brand</th>\n",
       "      <th>compensated</th>\n",
       "    </tr>\n",
       "  </thead>\n",
       "  <tbody>\n",
       "    <tr>\n",
       "      <th>count</th>\n",
       "      <td>100</td>\n",
       "      <td>100</td>\n",
       "      <td>100.00000</td>\n",
       "    </tr>\n",
       "    <tr>\n",
       "      <th>unique</th>\n",
       "      <td>95</td>\n",
       "      <td>9</td>\n",
       "      <td>NaN</td>\n",
       "    </tr>\n",
       "    <tr>\n",
       "      <th>top</th>\n",
       "      <td>O718MM163RUS</td>\n",
       "      <td>Ford Focus</td>\n",
       "      <td>NaN</td>\n",
       "    </tr>\n",
       "    <tr>\n",
       "      <th>freq</th>\n",
       "      <td>3</td>\n",
       "      <td>81</td>\n",
       "      <td>NaN</td>\n",
       "    </tr>\n",
       "    <tr>\n",
       "      <th>mean</th>\n",
       "      <td>NaN</td>\n",
       "      <td>NaN</td>\n",
       "      <td>6712.00000</td>\n",
       "    </tr>\n",
       "    <tr>\n",
       "      <th>std</th>\n",
       "      <td>NaN</td>\n",
       "      <td>NaN</td>\n",
       "      <td>11093.92663</td>\n",
       "    </tr>\n",
       "    <tr>\n",
       "      <th>min</th>\n",
       "      <td>NaN</td>\n",
       "      <td>NaN</td>\n",
       "      <td>100.00000</td>\n",
       "    </tr>\n",
       "    <tr>\n",
       "      <th>25%</th>\n",
       "      <td>NaN</td>\n",
       "      <td>NaN</td>\n",
       "      <td>1000.00000</td>\n",
       "    </tr>\n",
       "    <tr>\n",
       "      <th>50%</th>\n",
       "      <td>NaN</td>\n",
       "      <td>NaN</td>\n",
       "      <td>3000.00000</td>\n",
       "    </tr>\n",
       "    <tr>\n",
       "      <th>75%</th>\n",
       "      <td>NaN</td>\n",
       "      <td>NaN</td>\n",
       "      <td>7050.00000</td>\n",
       "    </tr>\n",
       "    <tr>\n",
       "      <th>max</th>\n",
       "      <td>NaN</td>\n",
       "      <td>NaN</td>\n",
       "      <td>77700.00000</td>\n",
       "    </tr>\n",
       "  </tbody>\n",
       "</table>\n",
       "</div>"
      ],
      "text/plain": [
       "         auto_number  auto_brand  compensated\n",
       "count            100         100    100.00000\n",
       "unique            95           9          NaN\n",
       "top     O718MM163RUS  Ford Focus          NaN\n",
       "freq               3          81          NaN\n",
       "mean             NaN         NaN   6712.00000\n",
       "std              NaN         NaN  11093.92663\n",
       "min              NaN         NaN    100.00000\n",
       "25%              NaN         NaN   1000.00000\n",
       "50%              NaN         NaN   3000.00000\n",
       "75%              NaN         NaN   7050.00000\n",
       "max              NaN         NaN  77700.00000"
      ]
     },
     "execution_count": 5,
     "metadata": {},
     "output_type": "execute_result"
    }
   ],
   "source": [
    "test_df.describe(include='all')"
   ]
  },
  {
   "cell_type": "code",
   "execution_count": 6,
   "metadata": {
    "collapsed": false
   },
   "outputs": [
    {
     "data": {
      "text/html": [
       "<div>\n",
       "<table border=\"1\" class=\"dataframe\">\n",
       "  <thead>\n",
       "    <tr style=\"text-align: right;\">\n",
       "      <th></th>\n",
       "      <th>auto_number</th>\n",
       "      <th>auto_brand</th>\n",
       "      <th>compensated</th>\n",
       "    </tr>\n",
       "    <tr>\n",
       "      <th>id</th>\n",
       "      <th></th>\n",
       "      <th></th>\n",
       "      <th></th>\n",
       "    </tr>\n",
       "  </thead>\n",
       "  <tbody>\n",
       "    <tr>\n",
       "      <th>1</th>\n",
       "      <td>E29677161RUS</td>\n",
       "      <td>Ford Focus</td>\n",
       "      <td>6000</td>\n",
       "    </tr>\n",
       "    <tr>\n",
       "      <th>2</th>\n",
       "      <td>T020MM116RUS</td>\n",
       "      <td>Skoda Octavia</td>\n",
       "      <td>3000</td>\n",
       "    </tr>\n",
       "    <tr>\n",
       "      <th>3</th>\n",
       "      <td>C798ET50RUS</td>\n",
       "      <td>Ford Focus</td>\n",
       "      <td>5000</td>\n",
       "    </tr>\n",
       "    <tr>\n",
       "      <th>4</th>\n",
       "      <td>Y7719C197RUS</td>\n",
       "      <td>Ford Focus</td>\n",
       "      <td>4600</td>\n",
       "    </tr>\n",
       "    <tr>\n",
       "      <th>5</th>\n",
       "      <td>9502XX38RUS</td>\n",
       "      <td>Skoda Octavia</td>\n",
       "      <td>3000</td>\n",
       "    </tr>\n",
       "  </tbody>\n",
       "</table>\n",
       "</div>"
      ],
      "text/plain": [
       "     auto_number     auto_brand  compensated\n",
       "id                                          \n",
       "1   E29677161RUS     Ford Focus         6000\n",
       "2   T020MM116RUS  Skoda Octavia         3000\n",
       "3    C798ET50RUS     Ford Focus         5000\n",
       "4   Y7719C197RUS     Ford Focus         4600\n",
       "5    9502XX38RUS  Skoda Octavia         3000"
      ]
     },
     "execution_count": 6,
     "metadata": {},
     "output_type": "execute_result"
    }
   ],
   "source": [
    "test_df.head()"
   ]
  },
  {
   "cell_type": "markdown",
   "metadata": {},
   "source": [
    "**Распределение признака \"марка авто\".**"
   ]
  },
  {
   "cell_type": "code",
   "execution_count": 7,
   "metadata": {
    "collapsed": false
   },
   "outputs": [
    {
     "data": {
      "text/plain": [
       "Ford Focus            658\n",
       "Skoda Octavia          51\n",
       "Volkswagen Golf        24\n",
       "Volkswagen Passat      21\n",
       "Toyota Corolla         18\n",
       "Toyota Camry           17\n",
       "Ford Mondeo             8\n",
       "Volkswagen Jetta        7\n",
       "Volkswagen Touareg      4\n",
       "BMW                     3\n",
       "Volkswagen              3\n",
       "Volvo                   2\n",
       "Audi                    1\n",
       "Name: auto_brand, dtype: int64"
      ]
     },
     "execution_count": 7,
     "metadata": {},
     "output_type": "execute_result"
    }
   ],
   "source": [
    "train_df['auto_brand'].value_counts()"
   ]
  },
  {
   "cell_type": "code",
   "execution_count": 8,
   "metadata": {
    "collapsed": false
   },
   "outputs": [
    {
     "data": {
      "text/plain": [
       "<matplotlib.axes._subplots.AxesSubplot at 0x115e53a90>"
      ]
     },
     "execution_count": 8,
     "metadata": {},
     "output_type": "execute_result"
    },
    {
     "data": {
      "image/png": "[encoded data removed]",
      "text/plain": [
       "<matplotlib.figure.Figure at 0x115e9a390>"
      ]
     },
     "metadata": {},
     "output_type": "display_data"
    }
   ],
   "source": [
    "train_df['auto_brand'].value_counts().plot(kind='bar')"
   ]
  },
  {
   "cell_type": "code",
   "execution_count": 9,
   "metadata": {
    "collapsed": false
   },
   "outputs": [
    {
     "data": {
      "text/plain": [
       "Ford Focus           81\n",
       "Skoda Octavia         8\n",
       "Volkswagen Passat     3\n",
       "Ford Mondeo           2\n",
       "Toyota Corolla        2\n",
       "Volkswagen Jetta      1\n",
       "BMW                   1\n",
       "Volkswagen Golf       1\n",
       "Toyota Camry          1\n",
       "Name: auto_brand, dtype: int64"
      ]
     },
     "execution_count": 9,
     "metadata": {},
     "output_type": "execute_result"
    }
   ],
   "source": [
    "test_df['auto_brand'].value_counts()"
   ]
  },
  {
   "cell_type": "code",
   "execution_count": 10,
   "metadata": {
    "collapsed": false
   },
   "outputs": [
    {
     "data": {
      "text/plain": [
       "<matplotlib.axes._subplots.AxesSubplot at 0x11838d210>"
      ]
     },
     "execution_count": 10,
     "metadata": {},
     "output_type": "execute_result"
    },
    {
     "data": {
      "image/png": "[encoded data removed]",
      "text/plain": [
       "<matplotlib.figure.Figure at 0x114ff5590>"
      ]
     },
     "metadata": {},
     "output_type": "display_data"
    }
   ],
   "source": [
    "test_df['auto_brand'].value_counts().plot(kind='bar', color='green')"
   ]
  },
  {
   "cell_type": "markdown",
   "metadata": {},
   "source": [
    "**Распределение признака \"сумма выплат\".**"
   ]
  },
  {
   "cell_type": "code",
   "execution_count": 11,
   "metadata": {
    "collapsed": false
   },
   "outputs": [
    {
     "data": {
      "text/plain": [
       "500     73\n",
       "1000    46\n",
       "2000    37\n",
       "1500    27\n",
       "1600    22\n",
       "Name: compensated, dtype: int64"
      ]
     },
     "execution_count": 11,
     "metadata": {},
     "output_type": "execute_result"
    }
   ],
   "source": [
    "train_compensated = train_df['compensated'].value_counts()\n",
    "train_compensated.head()"
   ]
  },
  {
   "cell_type": "code",
   "execution_count": 12,
   "metadata": {
    "collapsed": false
   },
   "outputs": [
    {
     "data": {
      "text/plain": [
       "<matplotlib.axes._subplots.AxesSubplot at 0x118dbd4d0>"
      ]
     },
     "execution_count": 12,
     "metadata": {},
     "output_type": "execute_result"
    },
    {
     "data": {
      "image/png": "[encoded data removed]",
      "text/plain": [
       "<matplotlib.figure.Figure at 0x118f073d0>"
      ]
     },
     "metadata": {},
     "output_type": "display_data"
    }
   ],
   "source": [
    "train_compensated.plot(kind='bar')"
   ]
  },
  {
   "cell_type": "markdown",
   "metadata": {},
   "source": [
    "**Распределение степенное. Отсортируем по выплатам.**"
   ]
  },
  {
   "cell_type": "code",
   "execution_count": 13,
   "metadata": {
    "collapsed": false
   },
   "outputs": [
    {
     "data": {
      "text/plain": [
       "<matplotlib.axes._subplots.AxesSubplot at 0x1192fcbd0>"
      ]
     },
     "execution_count": 13,
     "metadata": {},
     "output_type": "execute_result"
    },
    {
     "data": {
      "image/png": "[encoded data removed]",
      "text/plain": [
       "<matplotlib.figure.Figure at 0x11929d790>"
      ]
     },
     "metadata": {},
     "output_type": "display_data"
    }
   ],
   "source": [
    "train_df.sort_index(by='compensated')['compensated'].value_counts().sort_index().plot(kind=\"bar\")"
   ]
  },
  {
   "cell_type": "markdown",
   "metadata": {},
   "source": [
    "**То же самое, только для выплат < 2000.**"
   ]
  },
  {
   "cell_type": "code",
   "execution_count": 14,
   "metadata": {
    "collapsed": false
   },
   "outputs": [
    {
     "data": {
      "text/plain": [
       "<matplotlib.axes._subplots.AxesSubplot at 0x11a3c7ed0>"
      ]
     },
     "execution_count": 14,
     "metadata": {},
     "output_type": "execute_result"
    },
    {
     "data": {
      "image/png": "[encoded data removed]",
      "text/plain": [
       "<matplotlib.figure.Figure at 0x11a35da90>"
      ]
     },
     "metadata": {},
     "output_type": "display_data"
    }
   ],
   "source": [
    "train_df[train_df['compensated'] < 2000]['compensated'].value_counts().plot(kind='bar', by='compensated')"
   ]
  },
  {
   "cell_type": "code",
   "execution_count": 15,
   "metadata": {
    "collapsed": false
   },
   "outputs": [
    {
     "data": {
      "text/plain": [
       "<matplotlib.axes._subplots.AxesSubplot at 0x11b511ad0>"
      ]
     },
     "execution_count": 15,
     "metadata": {},
     "output_type": "execute_result"
    },
    {
     "data": {
      "image/png": "[encoded data removed]",
      "text/plain": [
       "<matplotlib.figure.Figure at 0x11a1aeb50>"
      ]
     },
     "metadata": {},
     "output_type": "display_data"
    }
   ],
   "source": [
    "train_df[train_df['compensated'] < 2000].sort_index(by='compensated')['compensated']\\\n",
    ".value_counts().sort_index().plot(kind=\"bar\")"
   ]
  },
  {
   "cell_type": "code",
   "execution_count": 16,
   "metadata": {
    "collapsed": false
   },
   "outputs": [
    {
     "data": {
      "text/plain": [
       "<matplotlib.axes._subplots.AxesSubplot at 0x119c64950>"
      ]
     },
     "execution_count": 16,
     "metadata": {},
     "output_type": "execute_result"
    },
    {
     "data": {
      "image/png": "[encoded data removed]",
      "text/plain": [
       "<matplotlib.figure.Figure at 0x119c58c10>"
      ]
     },
     "metadata": {},
     "output_type": "display_data"
    }
   ],
   "source": [
    "test_df.sort_index(by='compensated')['compensated'].value_counts().sort_index().plot(kind=\"bar\", \n",
    "                                                                                     color='green')"
   ]
  },
  {
   "cell_type": "markdown",
   "metadata": {},
   "source": [
    "**Посмотрим на распеределение классов в обучающей выборке.**"
   ]
  },
  {
   "cell_type": "code",
   "execution_count": 17,
   "metadata": {
    "collapsed": false
   },
   "outputs": [
    {
     "data": {
      "text/plain": [
       "1    422\n",
       "0    395\n",
       "Name: too_much, dtype: int64"
      ]
     },
     "execution_count": 17,
     "metadata": {},
     "output_type": "execute_result"
    }
   ],
   "source": [
    "train_df['too_much'].value_counts()"
   ]
  },
  {
   "cell_type": "markdown",
   "metadata": {},
   "source": [
    "**Распределение сумм выплат при разных марках автомобиля с указанием целевого класса.**"
   ]
  },
  {
   "cell_type": "code",
   "execution_count": 18,
   "metadata": {
    "collapsed": false
   },
   "outputs": [
    {
     "data": {
      "image/png": "[encoded data removed]",
      "text/plain": [
       "<matplotlib.figure.Figure at 0x119a0d450>"
      ]
     },
     "metadata": {},
     "output_type": "display_data"
    }
   ],
   "source": [
    "target_groups = train_df.groupby('too_much')\n",
    "for name, group in target_groups:\n",
    "    auto_brand_cat = pd.Categorical(group['auto_brand'], categories=group['auto_brand'].unique())\n",
    "    plot(auto_brand_cat.codes, group['compensated'], marker='o', linestyle='', ms=12, label=name)\n",
    "    legend()"
   ]
  },
  {
   "cell_type": "code",
   "execution_count": 19,
   "metadata": {
    "collapsed": false
   },
   "outputs": [
    {
     "data": {
      "image/png": "[encoded data removed]",
      "text/plain": [
       "<matplotlib.figure.Figure at 0x11ce6d990>"
      ]
     },
     "metadata": {},
     "output_type": "display_data"
    }
   ],
   "source": [
    "num_unique_brands = len(train_df['auto_brand'].unique())\n",
    "fig, axes = subplots(nrows=num_unique_brands, ncols=1)\n",
    "\n",
    "brand_groups = train_df.groupby('auto_brand')\n",
    "for brand_id, (brand_name, sub_df) in enumerate(brand_groups):\n",
    "    colors = ['red' if too_much else 'green' \n",
    "              for too_much in sub_df['too_much']]\n",
    "    sub_df['compensated'].value_counts().sort_index().plot(kind=\"bar\", color=colors, \n",
    "                                                     ax=axes[brand_id], \n",
    "                                                     figsize=(16, 10 * num_unique_brands))\n",
    "    axes[brand_id].set_title(brand_name)"
   ]
  },
  {
   "cell_type": "markdown",
   "metadata": {},
   "source": [
    "**Видно, что целевой класс плохо предсказывается только суммой выплат.**"
   ]
  },
  {
   "cell_type": "code",
   "execution_count": 20,
   "metadata": {
    "collapsed": false
   },
   "outputs": [
    {
     "data": {
      "text/plain": [
       "0.2574494013244038"
      ]
     },
     "execution_count": 20,
     "metadata": {},
     "output_type": "execute_result"
    }
   ],
   "source": [
    "train_df['too_much'].corr(train_df['compensated'])"
   ]
  },
  {
   "cell_type": "markdown",
   "metadata": {},
   "source": [
    "Значит, есть какие-то неучтенные факторы. Можно, например, попробовать извлечь из номера автомобиля номер регион. Но это позже. Пока поработаем с тем, что есть. Построим на имеющейся выборке дерево решений."
   ]
  },
  {
   "cell_type": "markdown",
   "metadata": {},
   "source": [
    "### Подготовка данных"
   ]
  },
  {
   "cell_type": "code",
   "execution_count": 6,
   "metadata": {
    "collapsed": false
   },
   "outputs": [],
   "source": [
    "train_df = pd.concat([train_df, pd.get_dummies(train_df['auto_brand'], \n",
    "                                               prefix='brand')], axis=1)\n",
    "test_df = pd.concat([test_df, pd.get_dummies(test_df['auto_brand'], \n",
    "                                             prefix='brand')], axis=1)"
   ]
  },
  {
   "cell_type": "code",
   "execution_count": 7,
   "metadata": {
    "collapsed": false
   },
   "outputs": [
    {
     "data": {
      "text/html": [
       "<div>\n",
       "<table border=\"1\" class=\"dataframe\">\n",
       "  <thead>\n",
       "    <tr style=\"text-align: right;\">\n",
       "      <th></th>\n",
       "      <th>auto_number</th>\n",
       "      <th>auto_brand</th>\n",
       "      <th>compensated</th>\n",
       "      <th>too_much</th>\n",
       "      <th>brand_Audi</th>\n",
       "      <th>brand_BMW</th>\n",
       "      <th>brand_Ford Focus</th>\n",
       "      <th>brand_Ford Mondeo</th>\n",
       "      <th>brand_Skoda Octavia</th>\n",
       "      <th>brand_Toyota Camry</th>\n",
       "      <th>brand_Toyota Corolla</th>\n",
       "      <th>brand_Volkswagen</th>\n",
       "      <th>brand_Volkswagen Golf</th>\n",
       "      <th>brand_Volkswagen Jetta</th>\n",
       "      <th>brand_Volkswagen Passat</th>\n",
       "      <th>brand_Volkswagen Touareg</th>\n",
       "      <th>brand_Volvo</th>\n",
       "    </tr>\n",
       "    <tr>\n",
       "      <th>id</th>\n",
       "      <th></th>\n",
       "      <th></th>\n",
       "      <th></th>\n",
       "      <th></th>\n",
       "      <th></th>\n",
       "      <th></th>\n",
       "      <th></th>\n",
       "      <th></th>\n",
       "      <th></th>\n",
       "      <th></th>\n",
       "      <th></th>\n",
       "      <th></th>\n",
       "      <th></th>\n",
       "      <th></th>\n",
       "      <th></th>\n",
       "      <th></th>\n",
       "      <th></th>\n",
       "    </tr>\n",
       "  </thead>\n",
       "  <tbody>\n",
       "    <tr>\n",
       "      <th>1</th>\n",
       "      <td>Y163O8161RUS</td>\n",
       "      <td>Ford Focus</td>\n",
       "      <td>3200</td>\n",
       "      <td>1</td>\n",
       "      <td>0.0</td>\n",
       "      <td>0.0</td>\n",
       "      <td>1.0</td>\n",
       "      <td>0.0</td>\n",
       "      <td>0.0</td>\n",
       "      <td>0.0</td>\n",
       "      <td>0.0</td>\n",
       "      <td>0.0</td>\n",
       "      <td>0.0</td>\n",
       "      <td>0.0</td>\n",
       "      <td>0.0</td>\n",
       "      <td>0.0</td>\n",
       "      <td>0.0</td>\n",
       "    </tr>\n",
       "    <tr>\n",
       "      <th>2</th>\n",
       "      <td>E432XX77RUS</td>\n",
       "      <td>Toyota Camry</td>\n",
       "      <td>6500</td>\n",
       "      <td>0</td>\n",
       "      <td>0.0</td>\n",
       "      <td>0.0</td>\n",
       "      <td>0.0</td>\n",
       "      <td>0.0</td>\n",
       "      <td>0.0</td>\n",
       "      <td>1.0</td>\n",
       "      <td>0.0</td>\n",
       "      <td>0.0</td>\n",
       "      <td>0.0</td>\n",
       "      <td>0.0</td>\n",
       "      <td>0.0</td>\n",
       "      <td>0.0</td>\n",
       "      <td>0.0</td>\n",
       "    </tr>\n",
       "    <tr>\n",
       "      <th>3</th>\n",
       "      <td>7184TT36RUS</td>\n",
       "      <td>Ford Focus</td>\n",
       "      <td>2100</td>\n",
       "      <td>0</td>\n",
       "      <td>0.0</td>\n",
       "      <td>0.0</td>\n",
       "      <td>1.0</td>\n",
       "      <td>0.0</td>\n",
       "      <td>0.0</td>\n",
       "      <td>0.0</td>\n",
       "      <td>0.0</td>\n",
       "      <td>0.0</td>\n",
       "      <td>0.0</td>\n",
       "      <td>0.0</td>\n",
       "      <td>0.0</td>\n",
       "      <td>0.0</td>\n",
       "      <td>0.0</td>\n",
       "    </tr>\n",
       "    <tr>\n",
       "      <th>4</th>\n",
       "      <td>X582HE161RUS</td>\n",
       "      <td>Ford Focus</td>\n",
       "      <td>2000</td>\n",
       "      <td>1</td>\n",
       "      <td>0.0</td>\n",
       "      <td>0.0</td>\n",
       "      <td>1.0</td>\n",
       "      <td>0.0</td>\n",
       "      <td>0.0</td>\n",
       "      <td>0.0</td>\n",
       "      <td>0.0</td>\n",
       "      <td>0.0</td>\n",
       "      <td>0.0</td>\n",
       "      <td>0.0</td>\n",
       "      <td>0.0</td>\n",
       "      <td>0.0</td>\n",
       "      <td>0.0</td>\n",
       "    </tr>\n",
       "    <tr>\n",
       "      <th>5</th>\n",
       "      <td>E34877152RUS</td>\n",
       "      <td>Ford Focus</td>\n",
       "      <td>6100</td>\n",
       "      <td>1</td>\n",
       "      <td>0.0</td>\n",
       "      <td>0.0</td>\n",
       "      <td>1.0</td>\n",
       "      <td>0.0</td>\n",
       "      <td>0.0</td>\n",
       "      <td>0.0</td>\n",
       "      <td>0.0</td>\n",
       "      <td>0.0</td>\n",
       "      <td>0.0</td>\n",
       "      <td>0.0</td>\n",
       "      <td>0.0</td>\n",
       "      <td>0.0</td>\n",
       "      <td>0.0</td>\n",
       "    </tr>\n",
       "  </tbody>\n",
       "</table>\n",
       "</div>"
      ],
      "text/plain": [
       "     auto_number    auto_brand  compensated  too_much  brand_Audi  brand_BMW  \\\n",
       "id                                                                             \n",
       "1   Y163O8161RUS    Ford Focus         3200         1         0.0        0.0   \n",
       "2    E432XX77RUS  Toyota Camry         6500         0         0.0        0.0   \n",
       "3    7184TT36RUS    Ford Focus         2100         0         0.0        0.0   \n",
       "4   X582HE161RUS    Ford Focus         2000         1         0.0        0.0   \n",
       "5   E34877152RUS    Ford Focus         6100         1         0.0        0.0   \n",
       "\n",
       "    brand_Ford Focus  brand_Ford Mondeo  brand_Skoda Octavia  \\\n",
       "id                                                             \n",
       "1                1.0                0.0                  0.0   \n",
       "2                0.0                0.0                  0.0   \n",
       "3                1.0                0.0                  0.0   \n",
       "4                1.0                0.0                  0.0   \n",
       "5                1.0                0.0                  0.0   \n",
       "\n",
       "    brand_Toyota Camry  brand_Toyota Corolla  brand_Volkswagen  \\\n",
       "id                                                               \n",
       "1                  0.0                   0.0               0.0   \n",
       "2                  1.0                   0.0               0.0   \n",
       "3                  0.0                   0.0               0.0   \n",
       "4                  0.0                   0.0               0.0   \n",
       "5                  0.0                   0.0               0.0   \n",
       "\n",
       "    brand_Volkswagen Golf  brand_Volkswagen Jetta  brand_Volkswagen Passat  \\\n",
       "id                                                                           \n",
       "1                     0.0                     0.0                      0.0   \n",
       "2                     0.0                     0.0                      0.0   \n",
       "3                     0.0                     0.0                      0.0   \n",
       "4                     0.0                     0.0                      0.0   \n",
       "5                     0.0                     0.0                      0.0   \n",
       "\n",
       "    brand_Volkswagen Touareg  brand_Volvo  \n",
       "id                                         \n",
       "1                        0.0          0.0  \n",
       "2                        0.0          0.0  \n",
       "3                        0.0          0.0  \n",
       "4                        0.0          0.0  \n",
       "5                        0.0          0.0  "
      ]
     },
     "execution_count": 7,
     "metadata": {},
     "output_type": "execute_result"
    }
   ],
   "source": [
    "train_df.head()"
   ]
  },
  {
   "cell_type": "code",
   "execution_count": 23,
   "metadata": {
    "collapsed": false
   },
   "outputs": [
    {
     "data": {
      "text/html": [
       "<div>\n",
       "<table border=\"1\" class=\"dataframe\">\n",
       "  <thead>\n",
       "    <tr style=\"text-align: right;\">\n",
       "      <th></th>\n",
       "      <th>auto_number</th>\n",
       "      <th>auto_brand</th>\n",
       "      <th>compensated</th>\n",
       "      <th>brand_BMW</th>\n",
       "      <th>brand_Ford Focus</th>\n",
       "      <th>brand_Ford Mondeo</th>\n",
       "      <th>brand_Skoda Octavia</th>\n",
       "      <th>brand_Toyota Camry</th>\n",
       "      <th>brand_Toyota Corolla</th>\n",
       "      <th>brand_Volkswagen Golf</th>\n",
       "      <th>brand_Volkswagen Jetta</th>\n",
       "      <th>brand_Volkswagen Passat</th>\n",
       "    </tr>\n",
       "    <tr>\n",
       "      <th>id</th>\n",
       "      <th></th>\n",
       "      <th></th>\n",
       "      <th></th>\n",
       "      <th></th>\n",
       "      <th></th>\n",
       "      <th></th>\n",
       "      <th></th>\n",
       "      <th></th>\n",
       "      <th></th>\n",
       "      <th></th>\n",
       "      <th></th>\n",
       "      <th></th>\n",
       "    </tr>\n",
       "  </thead>\n",
       "  <tbody>\n",
       "    <tr>\n",
       "      <th>1</th>\n",
       "      <td>E29677161RUS</td>\n",
       "      <td>Ford Focus</td>\n",
       "      <td>6000</td>\n",
       "      <td>0.0</td>\n",
       "      <td>1.0</td>\n",
       "      <td>0.0</td>\n",
       "      <td>0.0</td>\n",
       "      <td>0.0</td>\n",
       "      <td>0.0</td>\n",
       "      <td>0.0</td>\n",
       "      <td>0.0</td>\n",
       "      <td>0.0</td>\n",
       "    </tr>\n",
       "    <tr>\n",
       "      <th>2</th>\n",
       "      <td>T020MM116RUS</td>\n",
       "      <td>Skoda Octavia</td>\n",
       "      <td>3000</td>\n",
       "      <td>0.0</td>\n",
       "      <td>0.0</td>\n",
       "      <td>0.0</td>\n",
       "      <td>1.0</td>\n",
       "      <td>0.0</td>\n",
       "      <td>0.0</td>\n",
       "      <td>0.0</td>\n",
       "      <td>0.0</td>\n",
       "      <td>0.0</td>\n",
       "    </tr>\n",
       "    <tr>\n",
       "      <th>3</th>\n",
       "      <td>C798ET50RUS</td>\n",
       "      <td>Ford Focus</td>\n",
       "      <td>5000</td>\n",
       "      <td>0.0</td>\n",
       "      <td>1.0</td>\n",
       "      <td>0.0</td>\n",
       "      <td>0.0</td>\n",
       "      <td>0.0</td>\n",
       "      <td>0.0</td>\n",
       "      <td>0.0</td>\n",
       "      <td>0.0</td>\n",
       "      <td>0.0</td>\n",
       "    </tr>\n",
       "    <tr>\n",
       "      <th>4</th>\n",
       "      <td>Y7719C197RUS</td>\n",
       "      <td>Ford Focus</td>\n",
       "      <td>4600</td>\n",
       "      <td>0.0</td>\n",
       "      <td>1.0</td>\n",
       "      <td>0.0</td>\n",
       "      <td>0.0</td>\n",
       "      <td>0.0</td>\n",
       "      <td>0.0</td>\n",
       "      <td>0.0</td>\n",
       "      <td>0.0</td>\n",
       "      <td>0.0</td>\n",
       "    </tr>\n",
       "    <tr>\n",
       "      <th>5</th>\n",
       "      <td>9502XX38RUS</td>\n",
       "      <td>Skoda Octavia</td>\n",
       "      <td>3000</td>\n",
       "      <td>0.0</td>\n",
       "      <td>0.0</td>\n",
       "      <td>0.0</td>\n",
       "      <td>1.0</td>\n",
       "      <td>0.0</td>\n",
       "      <td>0.0</td>\n",
       "      <td>0.0</td>\n",
       "      <td>0.0</td>\n",
       "      <td>0.0</td>\n",
       "    </tr>\n",
       "  </tbody>\n",
       "</table>\n",
       "</div>"
      ],
      "text/plain": [
       "     auto_number     auto_brand  compensated  brand_BMW  brand_Ford Focus  \\\n",
       "id                                                                          \n",
       "1   E29677161RUS     Ford Focus         6000        0.0               1.0   \n",
       "2   T020MM116RUS  Skoda Octavia         3000        0.0               0.0   \n",
       "3    C798ET50RUS     Ford Focus         5000        0.0               1.0   \n",
       "4   Y7719C197RUS     Ford Focus         4600        0.0               1.0   \n",
       "5    9502XX38RUS  Skoda Octavia         3000        0.0               0.0   \n",
       "\n",
       "    brand_Ford Mondeo  brand_Skoda Octavia  brand_Toyota Camry  \\\n",
       "id                                                               \n",
       "1                 0.0                  0.0                 0.0   \n",
       "2                 0.0                  1.0                 0.0   \n",
       "3                 0.0                  0.0                 0.0   \n",
       "4                 0.0                  0.0                 0.0   \n",
       "5                 0.0                  1.0                 0.0   \n",
       "\n",
       "    brand_Toyota Corolla  brand_Volkswagen Golf  brand_Volkswagen Jetta  \\\n",
       "id                                                                        \n",
       "1                    0.0                    0.0                     0.0   \n",
       "2                    0.0                    0.0                     0.0   \n",
       "3                    0.0                    0.0                     0.0   \n",
       "4                    0.0                    0.0                     0.0   \n",
       "5                    0.0                    0.0                     0.0   \n",
       "\n",
       "    brand_Volkswagen Passat  \n",
       "id                           \n",
       "1                       0.0  \n",
       "2                       0.0  \n",
       "3                       0.0  \n",
       "4                       0.0  \n",
       "5                       0.0  "
      ]
     },
     "execution_count": 23,
     "metadata": {},
     "output_type": "execute_result"
    }
   ],
   "source": [
    "test_df.head()"
   ]
  },
  {
   "cell_type": "code",
   "execution_count": 24,
   "metadata": {
    "collapsed": false
   },
   "outputs": [
    {
     "data": {
      "text/plain": [
       "((817, 17), (100, 12))"
      ]
     },
     "execution_count": 24,
     "metadata": {},
     "output_type": "execute_result"
    }
   ],
   "source": [
    "train_df.shape, test_df.shape"
   ]
  },
  {
   "cell_type": "markdown",
   "metadata": {},
   "source": [
    "**В тестовой выборке нет некоторых марок автомобилей. Создадим для них явно dummy-признаки с нулями.**"
   ]
  },
  {
   "cell_type": "code",
   "execution_count": 8,
   "metadata": {
    "collapsed": false
   },
   "outputs": [
    {
     "data": {
      "text/plain": [
       "{'brand_Audi',\n",
       " 'brand_Volkswagen',\n",
       " 'brand_Volkswagen Touareg',\n",
       " 'brand_Volvo',\n",
       " 'too_much'}"
      ]
     },
     "execution_count": 8,
     "metadata": {},
     "output_type": "execute_result"
    }
   ],
   "source": [
    "set(train_df.columns) - set(test_df.columns)"
   ]
  },
  {
   "cell_type": "code",
   "execution_count": 9,
   "metadata": {
    "collapsed": false
   },
   "outputs": [
    {
     "data": {
      "text/plain": [
       "set()"
      ]
     },
     "execution_count": 9,
     "metadata": {},
     "output_type": "execute_result"
    }
   ],
   "source": [
    "set(test_df.columns) - set(train_df.columns)"
   ]
  },
  {
   "cell_type": "code",
   "execution_count": 10,
   "metadata": {
    "collapsed": true
   },
   "outputs": [],
   "source": [
    "test_df['brand_Audi'] = [0] * test_df.shape[0]\n",
    "test_df['brand_Volkswagen'] = [0] * test_df.shape[0]\n",
    "test_df['brand_Volkswagen Touareg'] = [0] * test_df.shape[0]\n",
    "test_df['brand_Volvo'] = [0] * test_df.shape[0]"
   ]
  },
  {
   "cell_type": "markdown",
   "metadata": {},
   "source": [
    "**Больше не нужны признаки `auto_number` и `auto_brand`. Также вынесем целевой признак в отдельный вектор (точнее, объект pandas Series).**"
   ]
  },
  {
   "cell_type": "code",
   "execution_count": 11,
   "metadata": {
    "collapsed": false
   },
   "outputs": [],
   "source": [
    "y = train_df['too_much']\n",
    "\n",
    "train_df.drop(['auto_number', 'auto_brand', 'too_much'], \n",
    "              axis=1, inplace=True)\n",
    "test_df.drop(['auto_number', 'auto_brand'], \n",
    "             axis=1, inplace=True)"
   ]
  },
  {
   "cell_type": "code",
   "execution_count": 12,
   "metadata": {
    "collapsed": false
   },
   "outputs": [
    {
     "data": {
      "text/html": [
       "<div>\n",
       "<table border=\"1\" class=\"dataframe\">\n",
       "  <thead>\n",
       "    <tr style=\"text-align: right;\">\n",
       "      <th></th>\n",
       "      <th>compensated</th>\n",
       "      <th>brand_Audi</th>\n",
       "      <th>brand_BMW</th>\n",
       "      <th>brand_Ford Focus</th>\n",
       "      <th>brand_Ford Mondeo</th>\n",
       "      <th>brand_Skoda Octavia</th>\n",
       "      <th>brand_Toyota Camry</th>\n",
       "      <th>brand_Toyota Corolla</th>\n",
       "      <th>brand_Volkswagen</th>\n",
       "      <th>brand_Volkswagen Golf</th>\n",
       "      <th>brand_Volkswagen Jetta</th>\n",
       "      <th>brand_Volkswagen Passat</th>\n",
       "      <th>brand_Volkswagen Touareg</th>\n",
       "      <th>brand_Volvo</th>\n",
       "    </tr>\n",
       "    <tr>\n",
       "      <th>id</th>\n",
       "      <th></th>\n",
       "      <th></th>\n",
       "      <th></th>\n",
       "      <th></th>\n",
       "      <th></th>\n",
       "      <th></th>\n",
       "      <th></th>\n",
       "      <th></th>\n",
       "      <th></th>\n",
       "      <th></th>\n",
       "      <th></th>\n",
       "      <th></th>\n",
       "      <th></th>\n",
       "      <th></th>\n",
       "    </tr>\n",
       "  </thead>\n",
       "  <tbody>\n",
       "    <tr>\n",
       "      <th>1</th>\n",
       "      <td>3200</td>\n",
       "      <td>0.0</td>\n",
       "      <td>0.0</td>\n",
       "      <td>1.0</td>\n",
       "      <td>0.0</td>\n",
       "      <td>0.0</td>\n",
       "      <td>0.0</td>\n",
       "      <td>0.0</td>\n",
       "      <td>0.0</td>\n",
       "      <td>0.0</td>\n",
       "      <td>0.0</td>\n",
       "      <td>0.0</td>\n",
       "      <td>0.0</td>\n",
       "      <td>0.0</td>\n",
       "    </tr>\n",
       "    <tr>\n",
       "      <th>2</th>\n",
       "      <td>6500</td>\n",
       "      <td>0.0</td>\n",
       "      <td>0.0</td>\n",
       "      <td>0.0</td>\n",
       "      <td>0.0</td>\n",
       "      <td>0.0</td>\n",
       "      <td>1.0</td>\n",
       "      <td>0.0</td>\n",
       "      <td>0.0</td>\n",
       "      <td>0.0</td>\n",
       "      <td>0.0</td>\n",
       "      <td>0.0</td>\n",
       "      <td>0.0</td>\n",
       "      <td>0.0</td>\n",
       "    </tr>\n",
       "    <tr>\n",
       "      <th>3</th>\n",
       "      <td>2100</td>\n",
       "      <td>0.0</td>\n",
       "      <td>0.0</td>\n",
       "      <td>1.0</td>\n",
       "      <td>0.0</td>\n",
       "      <td>0.0</td>\n",
       "      <td>0.0</td>\n",
       "      <td>0.0</td>\n",
       "      <td>0.0</td>\n",
       "      <td>0.0</td>\n",
       "      <td>0.0</td>\n",
       "      <td>0.0</td>\n",
       "      <td>0.0</td>\n",
       "      <td>0.0</td>\n",
       "    </tr>\n",
       "    <tr>\n",
       "      <th>4</th>\n",
       "      <td>2000</td>\n",
       "      <td>0.0</td>\n",
       "      <td>0.0</td>\n",
       "      <td>1.0</td>\n",
       "      <td>0.0</td>\n",
       "      <td>0.0</td>\n",
       "      <td>0.0</td>\n",
       "      <td>0.0</td>\n",
       "      <td>0.0</td>\n",
       "      <td>0.0</td>\n",
       "      <td>0.0</td>\n",
       "      <td>0.0</td>\n",
       "      <td>0.0</td>\n",
       "      <td>0.0</td>\n",
       "    </tr>\n",
       "    <tr>\n",
       "      <th>5</th>\n",
       "      <td>6100</td>\n",
       "      <td>0.0</td>\n",
       "      <td>0.0</td>\n",
       "      <td>1.0</td>\n",
       "      <td>0.0</td>\n",
       "      <td>0.0</td>\n",
       "      <td>0.0</td>\n",
       "      <td>0.0</td>\n",
       "      <td>0.0</td>\n",
       "      <td>0.0</td>\n",
       "      <td>0.0</td>\n",
       "      <td>0.0</td>\n",
       "      <td>0.0</td>\n",
       "      <td>0.0</td>\n",
       "    </tr>\n",
       "  </tbody>\n",
       "</table>\n",
       "</div>"
      ],
      "text/plain": [
       "    compensated  brand_Audi  brand_BMW  brand_Ford Focus  brand_Ford Mondeo  \\\n",
       "id                                                                            \n",
       "1          3200         0.0        0.0               1.0                0.0   \n",
       "2          6500         0.0        0.0               0.0                0.0   \n",
       "3          2100         0.0        0.0               1.0                0.0   \n",
       "4          2000         0.0        0.0               1.0                0.0   \n",
       "5          6100         0.0        0.0               1.0                0.0   \n",
       "\n",
       "    brand_Skoda Octavia  brand_Toyota Camry  brand_Toyota Corolla  \\\n",
       "id                                                                  \n",
       "1                   0.0                 0.0                   0.0   \n",
       "2                   0.0                 1.0                   0.0   \n",
       "3                   0.0                 0.0                   0.0   \n",
       "4                   0.0                 0.0                   0.0   \n",
       "5                   0.0                 0.0                   0.0   \n",
       "\n",
       "    brand_Volkswagen  brand_Volkswagen Golf  brand_Volkswagen Jetta  \\\n",
       "id                                                                    \n",
       "1                0.0                    0.0                     0.0   \n",
       "2                0.0                    0.0                     0.0   \n",
       "3                0.0                    0.0                     0.0   \n",
       "4                0.0                    0.0                     0.0   \n",
       "5                0.0                    0.0                     0.0   \n",
       "\n",
       "    brand_Volkswagen Passat  brand_Volkswagen Touareg  brand_Volvo  \n",
       "id                                                                  \n",
       "1                       0.0                       0.0          0.0  \n",
       "2                       0.0                       0.0          0.0  \n",
       "3                       0.0                       0.0          0.0  \n",
       "4                       0.0                       0.0          0.0  \n",
       "5                       0.0                       0.0          0.0  "
      ]
     },
     "execution_count": 12,
     "metadata": {},
     "output_type": "execute_result"
    }
   ],
   "source": [
    "train_df.head()"
   ]
  },
  {
   "cell_type": "code",
   "execution_count": 13,
   "metadata": {
    "collapsed": false
   },
   "outputs": [
    {
     "data": {
      "text/html": [
       "<div>\n",
       "<table border=\"1\" class=\"dataframe\">\n",
       "  <thead>\n",
       "    <tr style=\"text-align: right;\">\n",
       "      <th></th>\n",
       "      <th>compensated</th>\n",
       "      <th>brand_BMW</th>\n",
       "      <th>brand_Ford Focus</th>\n",
       "      <th>brand_Ford Mondeo</th>\n",
       "      <th>brand_Skoda Octavia</th>\n",
       "      <th>brand_Toyota Camry</th>\n",
       "      <th>brand_Toyota Corolla</th>\n",
       "      <th>brand_Volkswagen Golf</th>\n",
       "      <th>brand_Volkswagen Jetta</th>\n",
       "      <th>brand_Volkswagen Passat</th>\n",
       "      <th>brand_Audi</th>\n",
       "      <th>brand_Volkswagen</th>\n",
       "      <th>brand_Volkswagen Touareg</th>\n",
       "      <th>brand_Volvo</th>\n",
       "    </tr>\n",
       "    <tr>\n",
       "      <th>id</th>\n",
       "      <th></th>\n",
       "      <th></th>\n",
       "      <th></th>\n",
       "      <th></th>\n",
       "      <th></th>\n",
       "      <th></th>\n",
       "      <th></th>\n",
       "      <th></th>\n",
       "      <th></th>\n",
       "      <th></th>\n",
       "      <th></th>\n",
       "      <th></th>\n",
       "      <th></th>\n",
       "      <th></th>\n",
       "    </tr>\n",
       "  </thead>\n",
       "  <tbody>\n",
       "    <tr>\n",
       "      <th>1</th>\n",
       "      <td>6000</td>\n",
       "      <td>0.0</td>\n",
       "      <td>1.0</td>\n",
       "      <td>0.0</td>\n",
       "      <td>0.0</td>\n",
       "      <td>0.0</td>\n",
       "      <td>0.0</td>\n",
       "      <td>0.0</td>\n",
       "      <td>0.0</td>\n",
       "      <td>0.0</td>\n",
       "      <td>0</td>\n",
       "      <td>0</td>\n",
       "      <td>0</td>\n",
       "      <td>0</td>\n",
       "    </tr>\n",
       "    <tr>\n",
       "      <th>2</th>\n",
       "      <td>3000</td>\n",
       "      <td>0.0</td>\n",
       "      <td>0.0</td>\n",
       "      <td>0.0</td>\n",
       "      <td>1.0</td>\n",
       "      <td>0.0</td>\n",
       "      <td>0.0</td>\n",
       "      <td>0.0</td>\n",
       "      <td>0.0</td>\n",
       "      <td>0.0</td>\n",
       "      <td>0</td>\n",
       "      <td>0</td>\n",
       "      <td>0</td>\n",
       "      <td>0</td>\n",
       "    </tr>\n",
       "    <tr>\n",
       "      <th>3</th>\n",
       "      <td>5000</td>\n",
       "      <td>0.0</td>\n",
       "      <td>1.0</td>\n",
       "      <td>0.0</td>\n",
       "      <td>0.0</td>\n",
       "      <td>0.0</td>\n",
       "      <td>0.0</td>\n",
       "      <td>0.0</td>\n",
       "      <td>0.0</td>\n",
       "      <td>0.0</td>\n",
       "      <td>0</td>\n",
       "      <td>0</td>\n",
       "      <td>0</td>\n",
       "      <td>0</td>\n",
       "    </tr>\n",
       "    <tr>\n",
       "      <th>4</th>\n",
       "      <td>4600</td>\n",
       "      <td>0.0</td>\n",
       "      <td>1.0</td>\n",
       "      <td>0.0</td>\n",
       "      <td>0.0</td>\n",
       "      <td>0.0</td>\n",
       "      <td>0.0</td>\n",
       "      <td>0.0</td>\n",
       "      <td>0.0</td>\n",
       "      <td>0.0</td>\n",
       "      <td>0</td>\n",
       "      <td>0</td>\n",
       "      <td>0</td>\n",
       "      <td>0</td>\n",
       "    </tr>\n",
       "    <tr>\n",
       "      <th>5</th>\n",
       "      <td>3000</td>\n",
       "      <td>0.0</td>\n",
       "      <td>0.0</td>\n",
       "      <td>0.0</td>\n",
       "      <td>1.0</td>\n",
       "      <td>0.0</td>\n",
       "      <td>0.0</td>\n",
       "      <td>0.0</td>\n",
       "      <td>0.0</td>\n",
       "      <td>0.0</td>\n",
       "      <td>0</td>\n",
       "      <td>0</td>\n",
       "      <td>0</td>\n",
       "      <td>0</td>\n",
       "    </tr>\n",
       "  </tbody>\n",
       "</table>\n",
       "</div>"
      ],
      "text/plain": [
       "    compensated  brand_BMW  brand_Ford Focus  brand_Ford Mondeo  \\\n",
       "id                                                                \n",
       "1          6000        0.0               1.0                0.0   \n",
       "2          3000        0.0               0.0                0.0   \n",
       "3          5000        0.0               1.0                0.0   \n",
       "4          4600        0.0               1.0                0.0   \n",
       "5          3000        0.0               0.0                0.0   \n",
       "\n",
       "    brand_Skoda Octavia  brand_Toyota Camry  brand_Toyota Corolla  \\\n",
       "id                                                                  \n",
       "1                   0.0                 0.0                   0.0   \n",
       "2                   1.0                 0.0                   0.0   \n",
       "3                   0.0                 0.0                   0.0   \n",
       "4                   0.0                 0.0                   0.0   \n",
       "5                   1.0                 0.0                   0.0   \n",
       "\n",
       "    brand_Volkswagen Golf  brand_Volkswagen Jetta  brand_Volkswagen Passat  \\\n",
       "id                                                                           \n",
       "1                     0.0                     0.0                      0.0   \n",
       "2                     0.0                     0.0                      0.0   \n",
       "3                     0.0                     0.0                      0.0   \n",
       "4                     0.0                     0.0                      0.0   \n",
       "5                     0.0                     0.0                      0.0   \n",
       "\n",
       "    brand_Audi  brand_Volkswagen  brand_Volkswagen Touareg  brand_Volvo  \n",
       "id                                                                       \n",
       "1            0                 0                         0            0  \n",
       "2            0                 0                         0            0  \n",
       "3            0                 0                         0            0  \n",
       "4            0                 0                         0            0  \n",
       "5            0                 0                         0            0  "
      ]
     },
     "execution_count": 13,
     "metadata": {},
     "output_type": "execute_result"
    }
   ],
   "source": [
    "test_df.head()"
   ]
  },
  {
   "cell_type": "code",
   "execution_count": 31,
   "metadata": {
    "collapsed": false
   },
   "outputs": [
    {
     "data": {
      "text/plain": [
       "((817, 14), (100, 14))"
      ]
     },
     "execution_count": 31,
     "metadata": {},
     "output_type": "execute_result"
    }
   ],
   "source": [
    "train_df.shape, test_df.shape"
   ]
  },
  {
   "cell_type": "markdown",
   "metadata": {},
   "source": [
    "### Обучение дерева решений sklearn.tree.DecisionTreeClassifier"
   ]
  },
  {
   "cell_type": "markdown",
   "metadata": {},
   "source": [
    "**Пока используем дерево решений без настройки параметров (\"из коробки\"). <a href=\"http://scikit-learn.org/stable/modules/generated/sklearn.tree.DecisionTreeClassifier.html\">Документация</a> Scikit-learn по данному классу.**"
   ]
  },
  {
   "cell_type": "code",
   "execution_count": 14,
   "metadata": {
    "collapsed": false
   },
   "outputs": [
    {
     "data": {
      "text/plain": [
       "DecisionTreeClassifier(class_weight=None, criterion='gini', max_depth=5,\n",
       "            max_features=None, max_leaf_nodes=None, min_samples_leaf=1,\n",
       "            min_samples_split=2, min_weight_fraction_leaf=0.0,\n",
       "            presort=False, random_state=42, splitter='best')"
      ]
     },
     "execution_count": 14,
     "metadata": {},
     "output_type": "execute_result"
    }
   ],
   "source": [
    "# make an instance of decision tree classifier\n",
    "first_tree = DecisionTreeClassifier(max_depth=5, random_state=42)\n",
    "\n",
    "# fit feautures and target (train set and corresponding labels) to the classifier\n",
    "first_tree.fit(train_df, y)"
   ]
  },
  {
   "cell_type": "markdown",
   "metadata": {},
   "source": [
    "### Предсказание выплат для тестовой выборки"
   ]
  },
  {
   "cell_type": "markdown",
   "metadata": {},
   "source": [
    "**Предсказываем метки для объектов тестовой выборки.** "
   ]
  },
  {
   "cell_type": "code",
   "execution_count": 15,
   "metadata": {
    "collapsed": false
   },
   "outputs": [],
   "source": [
    "predictions = first_tree.predict_proba(test_df)[:, 1]"
   ]
  },
  {
   "cell_type": "markdown",
   "metadata": {},
   "source": [
    "**Запишем ответы в csv-файл (для отправки в Kaggle). Для этого напишем специальную функцию.**"
   ]
  },
  {
   "cell_type": "code",
   "execution_count": 16,
   "metadata": {
    "collapsed": true
   },
   "outputs": [],
   "source": [
    "def write_to_submission_file(predicted_labels, out_file,\n",
    "                             target='too_much', index_label=\"id\"):\n",
    "    # turn predictions into data frame and save as csv file\n",
    "    predicted_df = pd.DataFrame(predictions,\n",
    "                                index = np.arange(1, \n",
    "                                                  predicted_labels.shape[0] + 1),\n",
    "                                columns=[target])\n",
    "    predicted_df.to_csv(out_file, index_label=index_label)"
   ]
  },
  {
   "cell_type": "code",
   "execution_count": 35,
   "metadata": {
    "collapsed": true
   },
   "outputs": [],
   "source": [
    "# export tree visualization\n",
    "# after that $ dot -Tpng car_insur_first_tree.dot -o car_insur_first_tree.png (PNG format)\n",
    "export_graphviz(first_tree, \n",
    "                out_file=\"../../output/car_insur_first_tree.dot\",\n",
    "               feature_names=train_df.columns)"
   ]
  },
  {
   "cell_type": "markdown",
   "metadata": {},
   "source": [
    "<img src=\"../../img/car_insur_tree.png\">\n",
    "\n",
    "Картинка в формате pdf: `../../img/car_insur_tree.pdf`"
   ]
  },
  {
   "cell_type": "markdown",
   "metadata": {},
   "source": [
    "**Сравним сразу с ответами (в качестве демонстрации, в реальной задаче ответы, конечно, неизвестны).**"
   ]
  },
  {
   "cell_type": "code",
   "execution_count": 38,
   "metadata": {
    "collapsed": false
   },
   "outputs": [
    {
     "name": "stdout",
     "output_type": "stream",
     "text": [
      "You shouldn't know the answers, but this results in ~ 0.68 ROC AUC\n"
     ]
    }
   ],
   "source": [
    "try:\n",
    "    expected_labels_df = pd.read_csv(\"../../data/car_insurance_test_labels.csv\",\n",
    "                                     header=0, index_col=0)\n",
    "    expected_labels = expected_labels_df['too_much']\n",
    "    print(roc_auc_score(expected_labels, predictions))\n",
    "except IOError:\n",
    "    print(\"You shouldn't know the answers, but this results in ~ 0.68 ROC AUC\")"
   ]
  },
  {
   "cell_type": "code",
   "execution_count": 39,
   "metadata": {
    "collapsed": true
   },
   "outputs": [],
   "source": [
    "write_to_submission_file(predictions, \n",
    "                         \"../../output/car_insur_first_DT.csv\")"
   ]
  },
  {
   "cell_type": "markdown",
   "metadata": {},
   "source": [
    "**На Kaggle у этого решения результат - 0.6. Это на половине тестовой выборки, вторая половина откроется в самом конце соревнования. Используем этот результат как Benchmark.**"
   ]
  },
  {
   "cell_type": "markdown",
   "metadata": {},
   "source": [
    "### Настройка параметров GridSearch"
   ]
  },
  {
   "cell_type": "markdown",
   "metadata": {},
   "source": [
    "**Указываем наборы параметров дерева решений (критерий поиска лучшего разбиения, максимальная глубина, минимальное число объектов в листе), каждое их сочетание будет проверяться в процессе кросс-валидации (о ней чуть позже).**"
   ]
  },
  {
   "cell_type": "code",
   "execution_count": 40,
   "metadata": {
    "collapsed": false
   },
   "outputs": [
    {
     "name": "stdout",
     "output_type": "stream",
     "text": [
      "Fitting 5 folds for each of 200 candidates, totalling 1000 fits\n"
     ]
    },
    {
     "name": "stderr",
     "output_type": "stream",
     "text": [
      "[Parallel(n_jobs=1)]: Done  49 tasks       | elapsed:    0.5s\n",
      "[Parallel(n_jobs=1)]: Done 199 tasks       | elapsed:    2.2s\n",
      "[Parallel(n_jobs=1)]: Done 449 tasks       | elapsed:    4.1s\n",
      "[Parallel(n_jobs=1)]: Done 799 tasks       | elapsed:    6.1s\n",
      "[Parallel(n_jobs=1)]: Done 1000 out of 1000 | elapsed:    7.5s finished\n"
     ]
    },
    {
     "data": {
      "text/plain": [
       "GridSearchCV(cv=5, error_score='raise',\n",
       "       estimator=DecisionTreeClassifier(class_weight=None, criterion='gini', max_depth=None,\n",
       "            max_features=None, max_leaf_nodes=None, min_samples_leaf=1,\n",
       "            min_samples_split=2, min_weight_fraction_leaf=0.0,\n",
       "            presort=False, random_state=42, splitter='best'),\n",
       "       fit_params={}, iid=True, n_jobs=1,\n",
       "       param_grid={'criterion': ('gini', 'entropy'), 'max_depth': [1, 2, 3, 4, 5, 6, 7, 8, 9, 10], 'min_samples_leaf': [1, 2, 3, 4, 5, 6, 7, 8, 9, 10]},\n",
       "       pre_dispatch='2*n_jobs', refit=True, scoring=None, verbose=True)"
      ]
     },
     "execution_count": 40,
     "metadata": {},
     "output_type": "execute_result"
    }
   ],
   "source": [
    "# tree params for grid search\n",
    "tree_params = {'criterion': ('gini', 'entropy'), \n",
    "               'max_depth': list(range(1,11)), \n",
    "               'min_samples_leaf': list(range(1,11))}\n",
    "\n",
    "locally_best_tree = GridSearchCV(DecisionTreeClassifier(random_state=42), \n",
    "                                 tree_params, \n",
    "                                 verbose=True, n_jobs=1, cv=5)\n",
    "locally_best_tree.fit(train_df, y)"
   ]
  },
  {
   "cell_type": "markdown",
   "metadata": {},
   "source": [
    "**Лучшая из перебранных комбинаций параметров:**"
   ]
  },
  {
   "cell_type": "code",
   "execution_count": 41,
   "metadata": {
    "collapsed": false
   },
   "outputs": [
    {
     "data": {
      "text/plain": [
       "DecisionTreeClassifier(class_weight=None, criterion='entropy', max_depth=3,\n",
       "            max_features=None, max_leaf_nodes=None, min_samples_leaf=1,\n",
       "            min_samples_split=2, min_weight_fraction_leaf=0.0,\n",
       "            presort=False, random_state=42, splitter='best')"
      ]
     },
     "execution_count": 41,
     "metadata": {},
     "output_type": "execute_result"
    }
   ],
   "source": [
    "locally_best_tree.best_estimator_"
   ]
  },
  {
   "cell_type": "code",
   "execution_count": 42,
   "metadata": {
    "collapsed": false
   },
   "outputs": [
    {
     "data": {
      "text/plain": [
       "{'criterion': 'entropy', 'max_depth': 3, 'min_samples_leaf': 1}"
      ]
     },
     "execution_count": 42,
     "metadata": {},
     "output_type": "execute_result"
    }
   ],
   "source": [
    "locally_best_tree.best_params_"
   ]
  },
  {
   "cell_type": "code",
   "execution_count": 43,
   "metadata": {
    "collapsed": false
   },
   "outputs": [
    {
     "data": {
      "text/plain": [
       "0.70869033047735619"
      ]
     },
     "execution_count": 43,
     "metadata": {},
     "output_type": "execute_result"
    }
   ],
   "source": [
    "locally_best_tree.best_score_"
   ]
  },
  {
   "cell_type": "code",
   "execution_count": 44,
   "metadata": {
    "collapsed": false
   },
   "outputs": [
    {
     "name": "stdout",
     "output_type": "stream",
     "text": [
      "You shouldn't know the answers, but this results in ~ 0.755 ROC AUC\n"
     ]
    }
   ],
   "source": [
    "try:\n",
    "    predictions = locally_best_tree.predict_proba(test_df)[:, 1]\n",
    "    print(roc_auc_score(expected_labels, predictions))\n",
    "except NameError:\n",
    "    print(\"You shouldn't know the answers, but this results in ~ 0.755 ROC AUC\")"
   ]
  },
  {
   "cell_type": "markdown",
   "metadata": {},
   "source": [
    "**На Kaggle у этого решения результат - 0.735.**"
   ]
  },
  {
   "cell_type": "code",
   "execution_count": 45,
   "metadata": {
    "collapsed": false
   },
   "outputs": [],
   "source": [
    "write_to_submission_file(predictions, \n",
    "                         \"../../output/car_insur_tuned_DT.csv\",)"
   ]
  },
  {
   "cell_type": "code",
   "execution_count": 46,
   "metadata": {
    "collapsed": false
   },
   "outputs": [],
   "source": [
    "export_graphviz(locally_best_tree.best_estimator_, \n",
    "                out_file=\"../../output/car_ins_tuned_tree.dot\",\n",
    "               feature_names=train_df.columns)"
   ]
  },
  {
   "cell_type": "markdown",
   "metadata": {},
   "source": [
    "<img src=\"../../img/car_insur_tuned_tree.png\">\n",
    "\n",
    "Картинка в формате pdf: `../../img/car_insur_tuned_tree.pdf`"
   ]
  },
  {
   "cell_type": "markdown",
   "metadata": {},
   "source": [
    "### Обучение cлучайного леса sklearn.ensemble.RandomForestClassifier"
   ]
  },
  {
   "cell_type": "markdown",
   "metadata": {},
   "source": [
    "Про случайный лес подробней поговорим позже. Интуитивно: улучшение качества классификации по сравнению с одним деревом решений происходит потому, что разделяющая поверхность одного дерева - кусочная, и каждый \"кусок\" параллелен осям координат в признаковом пространстве, тогда как граница, построенная Random Forest, получается более сложной.  "
   ]
  },
  {
   "cell_type": "code",
   "execution_count": 47,
   "metadata": {
    "collapsed": false
   },
   "outputs": [
    {
     "name": "stdout",
     "output_type": "stream",
     "text": [
      "Fitting 5 folds for each of 32 candidates, totalling 160 fits\n"
     ]
    },
    {
     "name": "stderr",
     "output_type": "stream",
     "text": [
      "[Parallel(n_jobs=-1)]: Done  42 tasks      | elapsed:   23.4s\n",
      "[Parallel(n_jobs=-1)]: Done 160 out of 160 | elapsed:  1.3min finished\n"
     ]
    },
    {
     "data": {
      "text/plain": [
       "GridSearchCV(cv=5, error_score='raise',\n",
       "       estimator=RandomForestClassifier(bootstrap=True, class_weight=None, criterion='gini',\n",
       "            max_depth=None, max_features='auto', max_leaf_nodes=None,\n",
       "            min_samples_leaf=1, min_samples_split=2,\n",
       "            min_weight_fraction_leaf=0.0, n_estimators=10, n_jobs=1,\n",
       "            oob_score=False, random_state=42, verbose=0, warm_start=False),\n",
       "       fit_params={}, iid=True, n_jobs=-1,\n",
       "       param_grid={'n_estimators': [100, 500], 'max_depth': [1, 2, 3, 4], 'min_samples_leaf': [1, 2, 3, 4]},\n",
       "       pre_dispatch='2*n_jobs', refit=True, scoring=None, verbose=True)"
      ]
     },
     "execution_count": 47,
     "metadata": {},
     "output_type": "execute_result"
    }
   ],
   "source": [
    "# tree params for grid search\n",
    "forest_params = {'n_estimators': [100, 500],\n",
    "               'max_depth': list(range(1,5)), \n",
    "               'min_samples_leaf': list(range(1,5))}\n",
    "\n",
    "locally_best_forest = GridSearchCV(RandomForestClassifier(random_state=42), \n",
    "                                 forest_params, \n",
    "                                 verbose=True, n_jobs=-1, cv=5)\n",
    "locally_best_forest.fit(train_df, y)"
   ]
  },
  {
   "cell_type": "code",
   "execution_count": 48,
   "metadata": {
    "collapsed": false
   },
   "outputs": [
    {
     "data": {
      "text/plain": [
       "({'max_depth': 3, 'min_samples_leaf': 4, 'n_estimators': 500},\n",
       " 0.72460220318237456)"
      ]
     },
     "execution_count": 48,
     "metadata": {},
     "output_type": "execute_result"
    }
   ],
   "source": [
    "locally_best_forest.best_params_, locally_best_forest.best_score_"
   ]
  },
  {
   "cell_type": "code",
   "execution_count": 49,
   "metadata": {
    "collapsed": false
   },
   "outputs": [
    {
     "name": "stdout",
     "output_type": "stream",
     "text": [
      "You shouldn't know the answers, but this results in ~ 0.737 ROC AUC\n"
     ]
    }
   ],
   "source": [
    "try:\n",
    "    rf_predictions = locally_best_forest.predict_proba(test_df)[:, 1]\n",
    "    print(roc_auc_score(expected_labels, rf_predictions))\n",
    "except NameError:\n",
    "    print(\"You shouldn't know the answers, but this results in ~ 0.737 ROC AUC\")"
   ]
  },
  {
   "cell_type": "code",
   "execution_count": 50,
   "metadata": {
    "collapsed": true
   },
   "outputs": [],
   "source": [
    "write_to_submission_file(rf_predictions, \n",
    "                         \"../../output/car_insur_RF_dep3_n500.csv\")"
   ]
  },
  {
   "cell_type": "markdown",
   "metadata": {},
   "source": [
    "## Ссылки\n",
    "- [Соревнование](https://inclass.kaggle.com/c/beeline-data-school-4-car-insurance-2016) на сайте Kaggle Inclass\n",
    "- Исходное <a href=\"http://microsoftbi.ru/2015/06/06/hackathon2015ml/\">описание</a> задачи\n",
    "-  Документация Scikit-learn по классам <a href=\"http://scikit-learn.org/stable/modules/generated/sklearn.tree.DecisionTreeClassifier.html\">DecisionTreeClassifier</a> и <a href=\"http://scikit-learn.org/stable/modules/generated/sklearn.ensemble.RandomForestClassifier.html\">RandomForestClassifier</a>"
   ]
  }
 ],
 "metadata": {
  "kernelspec": {
   "display_name": "Python 2 (SageMath)",
   "language": "python",
   "name": "python2"
  },
  "language_info": {
   "codemirror_mode": {
    "name": "ipython",
    "version": 2
   },
   "file_extension": ".py",
   "mimetype": "text/x-python",
   "name": "python",
   "nbconvert_exporter": "python",
   "pygments_lexer": "ipython2",
   "version": "2.7.13"
  },
  "name": "lesson4_part3_Kaggle_inclass_contest.ipynb"
 },
 "nbformat": 4,
 "nbformat_minor": 0
}
